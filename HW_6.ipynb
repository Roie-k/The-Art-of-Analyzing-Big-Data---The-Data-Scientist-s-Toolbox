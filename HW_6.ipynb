{
 "cells": [
  {
   "cell_type": "markdown",
   "metadata": {
    "id": "ATxpf1JpbCyE"
   },
   "source": [
    "# Homework Assignment  6"
   ]
  },
  {
   "cell_type": "markdown",
   "metadata": {
    "id": "T6nDeYS6bCyF"
   },
   "source": [
    "**Question 1:** Construct a sentiment classifier using 80% of the reviews in the [Amazon Fine Food Reviews dataset](https://www.kaggle.com/snap/amazon-fine-food-reviews).\n",
    "The classifier needs to predict if a product got a one-star or a five-star review.\n",
    "Evaluate the classifier using the rest of the data (30pt).\n"
   ]
  },
  {
   "cell_type": "code",
   "execution_count": 1,
   "metadata": {},
   "outputs": [
    {
     "data": {
      "text/html": [
       "<div>\n",
       "<style scoped>\n",
       "    .dataframe tbody tr th:only-of-type {\n",
       "        vertical-align: middle;\n",
       "    }\n",
       "\n",
       "    .dataframe tbody tr th {\n",
       "        vertical-align: top;\n",
       "    }\n",
       "\n",
       "    .dataframe thead th {\n",
       "        text-align: right;\n",
       "    }\n",
       "</style>\n",
       "<table border=\"1\" class=\"dataframe\">\n",
       "  <thead>\n",
       "    <tr style=\"text-align: right;\">\n",
       "      <th></th>\n",
       "      <th>Id</th>\n",
       "      <th>ProductId</th>\n",
       "      <th>UserId</th>\n",
       "      <th>ProfileName</th>\n",
       "      <th>HelpfulnessNumerator</th>\n",
       "      <th>HelpfulnessDenominator</th>\n",
       "      <th>Score</th>\n",
       "      <th>Time</th>\n",
       "      <th>Summary</th>\n",
       "      <th>Text</th>\n",
       "    </tr>\n",
       "  </thead>\n",
       "  <tbody>\n",
       "    <tr>\n",
       "      <th>0</th>\n",
       "      <td>1</td>\n",
       "      <td>B001E4KFG0</td>\n",
       "      <td>A3SGXH7AUHU8GW</td>\n",
       "      <td>delmartian</td>\n",
       "      <td>1</td>\n",
       "      <td>1</td>\n",
       "      <td>5</td>\n",
       "      <td>1303862400</td>\n",
       "      <td>Good Quality Dog Food</td>\n",
       "      <td>I have bought several of the Vitality canned d...</td>\n",
       "    </tr>\n",
       "    <tr>\n",
       "      <th>1</th>\n",
       "      <td>2</td>\n",
       "      <td>B00813GRG4</td>\n",
       "      <td>A1D87F6ZCVE5NK</td>\n",
       "      <td>dll pa</td>\n",
       "      <td>0</td>\n",
       "      <td>0</td>\n",
       "      <td>1</td>\n",
       "      <td>1346976000</td>\n",
       "      <td>Not as Advertised</td>\n",
       "      <td>Product arrived labeled as Jumbo Salted Peanut...</td>\n",
       "    </tr>\n",
       "    <tr>\n",
       "      <th>2</th>\n",
       "      <td>3</td>\n",
       "      <td>B000LQOCH0</td>\n",
       "      <td>ABXLMWJIXXAIN</td>\n",
       "      <td>Natalia Corres \"Natalia Corres\"</td>\n",
       "      <td>1</td>\n",
       "      <td>1</td>\n",
       "      <td>4</td>\n",
       "      <td>1219017600</td>\n",
       "      <td>\"Delight\" says it all</td>\n",
       "      <td>This is a confection that has been around a fe...</td>\n",
       "    </tr>\n",
       "    <tr>\n",
       "      <th>3</th>\n",
       "      <td>4</td>\n",
       "      <td>B000UA0QIQ</td>\n",
       "      <td>A395BORC6FGVXV</td>\n",
       "      <td>Karl</td>\n",
       "      <td>3</td>\n",
       "      <td>3</td>\n",
       "      <td>2</td>\n",
       "      <td>1307923200</td>\n",
       "      <td>Cough Medicine</td>\n",
       "      <td>If you are looking for the secret ingredient i...</td>\n",
       "    </tr>\n",
       "    <tr>\n",
       "      <th>4</th>\n",
       "      <td>5</td>\n",
       "      <td>B006K2ZZ7K</td>\n",
       "      <td>A1UQRSCLF8GW1T</td>\n",
       "      <td>Michael D. Bigham \"M. Wassir\"</td>\n",
       "      <td>0</td>\n",
       "      <td>0</td>\n",
       "      <td>5</td>\n",
       "      <td>1350777600</td>\n",
       "      <td>Great taffy</td>\n",
       "      <td>Great taffy at a great price.  There was a wid...</td>\n",
       "    </tr>\n",
       "  </tbody>\n",
       "</table>\n",
       "</div>"
      ],
      "text/plain": [
       "   Id   ProductId          UserId                      ProfileName  \\\n",
       "0   1  B001E4KFG0  A3SGXH7AUHU8GW                       delmartian   \n",
       "1   2  B00813GRG4  A1D87F6ZCVE5NK                           dll pa   \n",
       "2   3  B000LQOCH0   ABXLMWJIXXAIN  Natalia Corres \"Natalia Corres\"   \n",
       "3   4  B000UA0QIQ  A395BORC6FGVXV                             Karl   \n",
       "4   5  B006K2ZZ7K  A1UQRSCLF8GW1T    Michael D. Bigham \"M. Wassir\"   \n",
       "\n",
       "   HelpfulnessNumerator  HelpfulnessDenominator  Score        Time  \\\n",
       "0                     1                       1      5  1303862400   \n",
       "1                     0                       0      1  1346976000   \n",
       "2                     1                       1      4  1219017600   \n",
       "3                     3                       3      2  1307923200   \n",
       "4                     0                       0      5  1350777600   \n",
       "\n",
       "                 Summary                                               Text  \n",
       "0  Good Quality Dog Food  I have bought several of the Vitality canned d...  \n",
       "1      Not as Advertised  Product arrived labeled as Jumbo Salted Peanut...  \n",
       "2  \"Delight\" says it all  This is a confection that has been around a fe...  \n",
       "3         Cough Medicine  If you are looking for the secret ingredient i...  \n",
       "4            Great taffy  Great taffy at a great price.  There was a wid...  "
      ]
     },
     "execution_count": 1,
     "metadata": {},
     "output_type": "execute_result"
    }
   ],
   "source": [
    "import pandas as pd\n",
    "\n",
    "df = pd.read_csv('Reviews.csv')\n",
    "df.head()"
   ]
  },
  {
   "cell_type": "markdown",
   "metadata": {},
   "source": [
    "In the provided dataset, there are categorical variables such as \"UserId\", \"ProductId\", and \"Text\" which contain textual information about the reviews. Additionally, the target variable \"Score\" represents the rating given to the product, ranging from 1 to 5 stars."
   ]
  },
  {
   "cell_type": "code",
   "execution_count": 2,
   "metadata": {},
   "outputs": [
    {
     "data": {
      "text/html": [
       "<div>\n",
       "<style scoped>\n",
       "    .dataframe tbody tr th:only-of-type {\n",
       "        vertical-align: middle;\n",
       "    }\n",
       "\n",
       "    .dataframe tbody tr th {\n",
       "        vertical-align: top;\n",
       "    }\n",
       "\n",
       "    .dataframe thead th {\n",
       "        text-align: right;\n",
       "    }\n",
       "</style>\n",
       "<table border=\"1\" class=\"dataframe\">\n",
       "  <thead>\n",
       "    <tr style=\"text-align: right;\">\n",
       "      <th></th>\n",
       "      <th>Id</th>\n",
       "      <th>ProfileName</th>\n",
       "      <th>HelpfulnessNumerator</th>\n",
       "      <th>HelpfulnessDenominator</th>\n",
       "      <th>Score</th>\n",
       "      <th>Time</th>\n",
       "      <th>Summary</th>\n",
       "      <th>Text</th>\n",
       "      <th>UserId_encoded</th>\n",
       "      <th>ProductId_encoded</th>\n",
       "    </tr>\n",
       "  </thead>\n",
       "  <tbody>\n",
       "    <tr>\n",
       "      <th>0</th>\n",
       "      <td>1</td>\n",
       "      <td>delmartian</td>\n",
       "      <td>1</td>\n",
       "      <td>1</td>\n",
       "      <td>5</td>\n",
       "      <td>1303862400</td>\n",
       "      <td>Good Quality Dog Food</td>\n",
       "      <td>I have bought several of the Vitality canned d...</td>\n",
       "      <td>188646</td>\n",
       "      <td>27619</td>\n",
       "    </tr>\n",
       "    <tr>\n",
       "      <th>1</th>\n",
       "      <td>2</td>\n",
       "      <td>dll pa</td>\n",
       "      <td>0</td>\n",
       "      <td>0</td>\n",
       "      <td>1</td>\n",
       "      <td>1346976000</td>\n",
       "      <td>Not as Advertised</td>\n",
       "      <td>Product arrived labeled as Jumbo Salted Peanut...</td>\n",
       "      <td>25105</td>\n",
       "      <td>72383</td>\n",
       "    </tr>\n",
       "    <tr>\n",
       "      <th>2</th>\n",
       "      <td>3</td>\n",
       "      <td>Natalia Corres \"Natalia Corres\"</td>\n",
       "      <td>1</td>\n",
       "      <td>1</td>\n",
       "      <td>4</td>\n",
       "      <td>1219017600</td>\n",
       "      <td>\"Delight\" says it all</td>\n",
       "      <td>This is a confection that has been around a fe...</td>\n",
       "      <td>210482</td>\n",
       "      <td>15267</td>\n",
       "    </tr>\n",
       "    <tr>\n",
       "      <th>3</th>\n",
       "      <td>4</td>\n",
       "      <td>Karl</td>\n",
       "      <td>3</td>\n",
       "      <td>3</td>\n",
       "      <td>2</td>\n",
       "      <td>1307923200</td>\n",
       "      <td>Cough Medicine</td>\n",
       "      <td>If you are looking for the secret ingredient i...</td>\n",
       "      <td>152635</td>\n",
       "      <td>19718</td>\n",
       "    </tr>\n",
       "    <tr>\n",
       "      <th>4</th>\n",
       "      <td>5</td>\n",
       "      <td>Michael D. Bigham \"M. Wassir\"</td>\n",
       "      <td>0</td>\n",
       "      <td>0</td>\n",
       "      <td>5</td>\n",
       "      <td>1350777600</td>\n",
       "      <td>Great taffy</td>\n",
       "      <td>Great taffy at a great price.  There was a wid...</td>\n",
       "      <td>57804</td>\n",
       "      <td>69007</td>\n",
       "    </tr>\n",
       "  </tbody>\n",
       "</table>\n",
       "</div>"
      ],
      "text/plain": [
       "   Id                      ProfileName  HelpfulnessNumerator  \\\n",
       "0   1                       delmartian                     1   \n",
       "1   2                           dll pa                     0   \n",
       "2   3  Natalia Corres \"Natalia Corres\"                     1   \n",
       "3   4                             Karl                     3   \n",
       "4   5    Michael D. Bigham \"M. Wassir\"                     0   \n",
       "\n",
       "   HelpfulnessDenominator  Score        Time                Summary  \\\n",
       "0                       1      5  1303862400  Good Quality Dog Food   \n",
       "1                       0      1  1346976000      Not as Advertised   \n",
       "2                       1      4  1219017600  \"Delight\" says it all   \n",
       "3                       3      2  1307923200         Cough Medicine   \n",
       "4                       0      5  1350777600            Great taffy   \n",
       "\n",
       "                                                Text  UserId_encoded  \\\n",
       "0  I have bought several of the Vitality canned d...          188646   \n",
       "1  Product arrived labeled as Jumbo Salted Peanut...           25105   \n",
       "2  This is a confection that has been around a fe...          210482   \n",
       "3  If you are looking for the secret ingredient i...          152635   \n",
       "4  Great taffy at a great price.  There was a wid...           57804   \n",
       "\n",
       "   ProductId_encoded  \n",
       "0              27619  \n",
       "1              72383  \n",
       "2              15267  \n",
       "3              19718  \n",
       "4              69007  "
      ]
     },
     "execution_count": 2,
     "metadata": {},
     "output_type": "execute_result"
    }
   ],
   "source": [
    "from sklearn.preprocessing import LabelEncoder\n",
    "import pandas as pd\n",
    "import numpy as np\n",
    "import matplotlib.pyplot as plt\n",
    "import seaborn as sns\n",
    "\n",
    "# Initialize LabelEncoder\n",
    "label_encoder = LabelEncoder()\n",
    "\n",
    "# Encode UserId and ProductId columns\n",
    "df['UserId_encoded'] = label_encoder.fit_transform(df['UserId'])\n",
    "df['ProductId_encoded'] = label_encoder.fit_transform(df['ProductId'])\n",
    "# Drop original UserId and ProductId columns\n",
    "df.drop(['UserId', 'ProductId'], axis=1, inplace=True)\n",
    "\n",
    "# Display encoded columns\n",
    "df.head()"
   ]
  },
  {
   "cell_type": "code",
   "execution_count": 3,
   "metadata": {
    "scrolled": false
   },
   "outputs": [
    {
     "data": {
      "image/png": "[encoded data removed]",
      "text/plain": [
       "<Figure size 1000x500 with 1 Axes>"
      ]
     },
     "metadata": {},
     "output_type": "display_data"
    }
   ],
   "source": [
    "ax = df['Score'].value_counts().sort_index() \\\n",
    "    .plot(kind='bar',\n",
    "          title='Count of Reviews by Stars',\n",
    "          figsize=(10, 5))\n",
    "ax.set_xlabel('Review Stars')\n",
    "plt.show()"
   ]
  },
  {
   "cell_type": "code",
   "execution_count": 4,
   "metadata": {},
   "outputs": [
    {
     "name": "stderr",
     "output_type": "stream",
     "text": [
      "C:\\Users\\kazom\\anaconda3\\lib\\site-packages\\sklearn\\linear_model\\_logistic.py:458: ConvergenceWarning: lbfgs failed to converge (status=1):\n",
      "STOP: TOTAL NO. of ITERATIONS REACHED LIMIT.\n",
      "\n",
      "Increase the number of iterations (max_iter) or scale the data as shown in:\n",
      "    https://scikit-learn.org/stable/modules/preprocessing.html\n",
      "Please also refer to the documentation for alternative solver options:\n",
      "    https://scikit-learn.org/stable/modules/linear_model.html#logistic-regression\n",
      "  n_iter_i = _check_optimize_result(\n"
     ]
    },
    {
     "name": "stdout",
     "output_type": "stream",
     "text": [
      "Accuracy: 0.8193524553394728\n",
      "Classification Report:\n",
      "               precision    recall  f1-score   support\n",
      "\n",
      "           0       0.79      0.68      0.73     40789\n",
      "           1       0.83      0.90      0.86     72902\n",
      "\n",
      "    accuracy                           0.82    113691\n",
      "   macro avg       0.81      0.79      0.80    113691\n",
      "weighted avg       0.82      0.82      0.82    113691\n",
      "\n"
     ]
    },
    {
     "data": {
      "image/png": "[encoded data removed]",
      "text/plain": [
       "<Figure size 640x480 with 2 Axes>"
      ]
     },
     "metadata": {},
     "output_type": "display_data"
    }
   ],
   "source": [
    "# Step 1: Preprocess the data\n",
    "# Convert the Score column to binary labels\n",
    "df['Sentiment'] = df['Score'].apply(lambda x: 1 if x == 5 else 0)\n",
    "\n",
    "# Step 2: Split the data into training and testing sets\n",
    "from sklearn.model_selection import train_test_split\n",
    "X_train, X_test, y_train, y_test = train_test_split(df['Text'], df['Sentiment'], test_size=0.2, random_state=42)\n",
    "\n",
    "# Step 3: Extract features\n",
    "from sklearn.feature_extraction.text import TfidfVectorizer\n",
    "vectorizer = TfidfVectorizer(max_features=5000, stop_words='english')\n",
    "X_train_vectorized = vectorizer.fit_transform(X_train)\n",
    "X_test_vectorized = vectorizer.transform(X_test)\n",
    "\n",
    "# Step 4: Train a classifier\n",
    "from sklearn.linear_model import LogisticRegression\n",
    "classifier = LogisticRegression()\n",
    "classifier.fit(X_train_vectorized, y_train)\n",
    "\n",
    "# Step 5: Evaluate the classifier\n",
    "from sklearn.metrics import accuracy_score, classification_report, confusion_matrix, ConfusionMatrixDisplay\n",
    "y_pred = classifier.predict(X_test_vectorized)\n",
    "accuracy = accuracy_score(y_test, y_pred)\n",
    "report = classification_report(y_test, y_pred)\n",
    "\n",
    "print(\"Accuracy:\", accuracy)\n",
    "print(\"Classification Report:\\n\", report)\n",
    "\n",
    "# Generate confusion matrix\n",
    "cm = confusion_matrix(y_test, y_pred)\n",
    "\n",
    "# Display confusion matrix\n",
    "disp = ConfusionMatrixDisplay(confusion_matrix=cm, display_labels=['1 Star', '5 Stars'])\n",
    "disp.plot()\n",
    "plt.show()"
   ]
  },
  {
   "cell_type": "code",
   "execution_count": 5,
   "metadata": {},
   "outputs": [
    {
     "data": {
      "text/plain": [
       "<454763x5000 sparse matrix of type '<class 'numpy.float64'>'\n",
       "\twith 12677006 stored elements in Compressed Sparse Row format>"
      ]
     },
     "execution_count": 5,
     "metadata": {},
     "output_type": "execute_result"
    }
   ],
   "source": [
    "X_train_vectorized"
   ]
  },
  {
   "cell_type": "markdown",
   "metadata": {
    "id": "chKUklQQbCyL"
   },
   "source": [
    "**Question 2:** Construct a sentiment classifier using features from the [TextBlob package](https://textblob.readthedocs.io/en/dev/index.html),\n",
    "    and from the [affin package](https://pypi.org/project/afinn/). Compare the two classifiers results and visualize it (however you want) (20pt)"
   ]
  },
  {
   "cell_type": "code",
   "execution_count": 6,
   "metadata": {
    "scrolled": false
   },
   "outputs": [
    {
     "name": "stdout",
     "output_type": "stream",
     "text": [
      "Accuracy using TextBlob features: 0.6745\n",
      "Accuracy using Afinn features: 0.6605\n"
     ]
    },
    {
     "data": {
      "image/png": "[encoded data removed]",
      "text/plain": [
       "<Figure size 1200x500 with 4 Axes>"
      ]
     },
     "metadata": {},
     "output_type": "display_data"
    }
   ],
   "source": [
    "from textblob import TextBlob\n",
    "from afinn import Afinn\n",
    "\n",
    "# Extract sentiment scores using TextBlob and Afinn\n",
    "X_train_textblob = X_train[:20000].apply(lambda x: TextBlob(x).sentiment.polarity)\n",
    "X_test_textblob = X_test[:2000].apply(lambda x: TextBlob(x).sentiment.polarity)\n",
    "\n",
    "X_train_afinn = X_train[:20000].apply(lambda x: Afinn().score(x))\n",
    "X_test_afinn = X_test[:2000].apply(lambda x: Afinn().score(x))\n",
    "\n",
    "# Train a logistic regression classifier using TextBlob features\n",
    "classifier_textblob = LogisticRegression()\n",
    "classifier_textblob.fit(X_train_textblob.values.reshape(-1, 1), y_train[:20000])\n",
    "y_pred_textblob = classifier_textblob.predict(X_test_textblob.values.reshape(-1, 1))\n",
    "\n",
    "# Train a logistic regression classifier using Afinn features\n",
    "classifier_afinn = LogisticRegression()\n",
    "classifier_afinn.fit(X_train_afinn.values.reshape(-1, 1), y_train[:20000])\n",
    "y_pred_afinn = classifier_afinn.predict(X_test_afinn.values.reshape(-1, 1))\n",
    "\n",
    "# Evaluate the classifiers\n",
    "accuracy_textblob = accuracy_score(y_test[:2000], y_pred_textblob)\n",
    "accuracy_afinn = accuracy_score(y_test[:2000], y_pred_afinn)\n",
    "\n",
    "# Display the results\n",
    "print(\"Accuracy using TextBlob features:\", accuracy_textblob)\n",
    "print(\"Accuracy using Afinn features:\", accuracy_afinn)\n",
    "\n",
    "# Generate confusion matrices\n",
    "cm_textblob = confusion_matrix(y_test[:2000], y_pred_textblob)\n",
    "cm_afinn = confusion_matrix(y_test[:2000], y_pred_afinn)\n",
    "\n",
    "# Plot confusion matrices\n",
    "fig, axs = plt.subplots(1, 2, figsize=(12, 5))\n",
    "\n",
    "disp_textblob = ConfusionMatrixDisplay(confusion_matrix=cm_textblob, display_labels=['1 Star', '5 Stars'])\n",
    "disp_textblob.plot(ax=axs[0], cmap='Blues')\n",
    "axs[0].set_title('Confusion Matrix (TextBlob)')\n",
    "\n",
    "disp_afinn = ConfusionMatrixDisplay(confusion_matrix=cm_afinn, display_labels=['1 Star', '5 Stars'])\n",
    "disp_afinn.plot(ax=axs[1], cmap='Blues')\n",
    "axs[1].set_title('Confusion Matrix (Afinn)')\n",
    "\n",
    "plt.tight_layout()\n",
    "plt.show()"
   ]
  },
  {
   "cell_type": "markdown",
   "metadata": {
    "id": "GklKQldybCyP"
   },
   "source": [
    "**Question 3:**  Select a different reviews dataset and create a sentiment classifier which utilizes word embeddings (25pt).\n",
    "Evaluate this classifier (5pt). Try to improve your classifier by adding additional features (20pt)"
   ]
  },
  {
   "cell_type": "code",
   "execution_count": 7,
   "metadata": {
    "id": "MgS9j6eRbCyQ"
   },
   "outputs": [],
   "source": [
    "from tqdm import tqdm"
   ]
  },
  {
   "cell_type": "code",
   "execution_count": 8,
   "metadata": {},
   "outputs": [
    {
     "name": "stdout",
     "output_type": "stream",
     "text": [
      "loading  neg\n"
     ]
    },
    {
     "name": "stderr",
     "output_type": "stream",
     "text": [
      "100%|███████████████████████████████████████████████████████████████████████████| 12500/12500 [01:17<00:00, 161.01it/s]\n"
     ]
    },
    {
     "name": "stdout",
     "output_type": "stream",
     "text": [
      "loading  pos\n"
     ]
    },
    {
     "name": "stderr",
     "output_type": "stream",
     "text": [
      "100%|███████████████████████████████████████████████████████████████████████████| 12500/12500 [00:32<00:00, 385.13it/s]\n"
     ]
    }
   ],
   "source": [
    "import os\n",
    "\n",
    "imdb_dir = 'aclImdb' # Data directory\n",
    "train_dir = os.path.join(imdb_dir, 'train') # Get the path of the train set\n",
    "\n",
    "# Setup empty lists to fill\n",
    "labels = []\n",
    "texts = []\n",
    "\n",
    "# First go through the negatives, then through the positives\n",
    "for label_type in ['neg', 'pos']:\n",
    "    # Get the sub path\n",
    "    dir_name = os.path.join(train_dir, label_type)\n",
    "    print('loading ',label_type)\n",
    "    # Loop over all files in path\n",
    "    for fname in tqdm(os.listdir(dir_name)):\n",
    "\n",
    "        # Only consider text files\n",
    "        if fname[-4:] == '.txt':\n",
    "            # Read the text file and put it in the list\n",
    "            f = open(os.path.join(dir_name, fname))\n",
    "            try: \n",
    "                texts.append(f.read())\n",
    "                f.close()\n",
    "            except:\n",
    "                f.close()\n",
    "            # Attach the corresponding label\n",
    "            if label_type == 'neg':\n",
    "                labels.append(0)\n",
    "            else:\n",
    "                labels.append(1)"
   ]
  },
  {
   "cell_type": "code",
   "execution_count": 9,
   "metadata": {},
   "outputs": [
    {
     "data": {
      "text/plain": [
       "(25000, 24975)"
      ]
     },
     "execution_count": 9,
     "metadata": {},
     "output_type": "execute_result"
    }
   ],
   "source": [
    "len(labels), len(texts)"
   ]
  },
  {
   "cell_type": "code",
   "execution_count": 10,
   "metadata": {},
   "outputs": [
    {
     "data": {
      "text/plain": [
       "0.5"
      ]
     },
     "execution_count": 10,
     "metadata": {},
     "output_type": "execute_result"
    }
   ],
   "source": [
    "np.mean(labels)"
   ]
  },
  {
   "cell_type": "code",
   "execution_count": 11,
   "metadata": {},
   "outputs": [
    {
     "name": "stdout",
     "output_type": "stream",
     "text": [
      "Label 1\n",
      "And I really mean that. I caught it last night on Vh1, and I was not expecting it to be so good. This is now one of my favorites. I must add that it has a killer soundtrack.\n"
     ]
    }
   ],
   "source": [
    "# Postivie Review\n",
    "print('Label',labels[24002])\n",
    "print(texts[24002])"
   ]
  },
  {
   "cell_type": "code",
   "execution_count": 12,
   "metadata": {},
   "outputs": [
    {
     "name": "stdout",
     "output_type": "stream",
     "text": [
      "Label 0\n",
      "Airport '77 starts as a brand new luxury 747 plane is loaded up with valuable paintings & such belonging to rich businessman Philip Stevens (James Stewart) who is flying them & a bunch of VIP's to his estate in preparation of it being opened to the public as a museum, also on board is Stevens daughter Julie (Kathleen Quinlan) & her son. The luxury jetliner takes off as planned but mid-air the plane is hi-jacked by the co-pilot Chambers (Robert Foxworth) & his two accomplice's Banker (Monte Markham) & Wilson (Michael Pataki) who knock the passengers & crew out with sleeping gas, they plan to steal the valuable cargo & land on a disused plane strip on an isolated island but while making his descent Chambers almost hits an oil rig in the Ocean & loses control of the plane sending it crashing into the sea where it sinks to the bottom right bang in the middle of the Bermuda Triangle. With air in short supply, water leaking in & having flown over 200 miles off course the problems mount for the survivor's as they await help with time fast running out...<br /><br />Also known under the slightly different tile Airport 1977 this second sequel to the smash-hit disaster thriller Airport (1970) was directed by Jerry Jameson & while once again like it's predecessors I can't say Airport '77 is any sort of forgotten classic it is entertaining although not necessarily for the right reasons. Out of the three Airport films I have seen so far I actually liked this one the best, just. It has my favourite plot of the three with a nice mid-air hi-jacking & then the crashing (didn't he see the oil rig?) & sinking of the 747 (maybe the makers were trying to cross the original Airport with another popular disaster flick of the period The Poseidon Adventure (1972)) & submerged is where it stays until the end with a stark dilemma facing those trapped inside, either suffocate when the air runs out or drown as the 747 floods or if any of the doors are opened & it's a decent idea that could have made for a great little disaster flick but bad unsympathetic character's, dull dialogue, lethargic set-pieces & a real lack of danger or suspense or tension means this is a missed opportunity. While the rather sluggish plot keeps one entertained for 108 odd minutes not that much happens after the plane sinks & there's not as much urgency as I thought there should have been. Even when the Navy become involved things don't pick up that much with a few shots of huge ships & helicopters flying about but there's just something lacking here. George Kennedy as the jinxed airline worker Joe Patroni is back but only gets a couple of scenes & barely even says anything preferring to just look worried in the background.<br /><br />The home video & theatrical version of Airport '77 run 108 minutes while the US TV versions add an extra hour of footage including a new opening credits sequence, many more scenes with George Kennedy as Patroni, flashbacks to flesh out character's, longer rescue scenes & the discovery or another couple of dead bodies including the navigator. While I would like to see this extra footage I am not sure I could sit through a near three hour cut of Airport '77. As expected the film has dated badly with horrible fashions & interior design choices, I will say no more other than the toy plane model effects aren't great either. Along with the other two Airport sequels this takes pride of place in the Razzie Award's Hall of Shame although I can think of lots of worse films than this so I reckon that's a little harsh. The action scenes are a little dull unfortunately, the pace is slow & not much excitement or tension is generated which is a shame as I reckon this could have been a pretty good film if made properly.<br /><br />The production values are alright if nothing spectacular. The acting isn't great, two time Oscar winner Jack Lemmon has said since it was a mistake to star in this, one time Oscar winner James Stewart looks old & frail, also one time Oscar winner Lee Grant looks drunk while Sir Christopher Lee is given little to do & there are plenty of other familiar faces to look out for too.<br /><br />Airport '77 is the most disaster orientated of the three Airport films so far & I liked the ideas behind it even if they were a bit silly, the production & bland direction doesn't help though & a film about a sunken plane just shouldn't be this boring or lethargic. Followed by The Concorde ... Airport '79 (1979).\n"
     ]
    }
   ],
   "source": [
    "# Negative Review\n",
    "print('Label',labels[1])\n",
    "print(texts[1])"
   ]
  },
  {
   "cell_type": "code",
   "execution_count": 13,
   "metadata": {},
   "outputs": [],
   "source": [
    "from keras.preprocessing.text import Tokenizer\n",
    "\n",
    "tokenizer = Tokenizer(num_words=10000) \n",
    "tokenizer.fit_on_texts(texts) # Generate tokens by counting frequency\n",
    "sequences = tokenizer.texts_to_sequences(texts) # Turn text into sequence of numbers"
   ]
  },
  {
   "cell_type": "code",
   "execution_count": 14,
   "metadata": {},
   "outputs": [
    {
     "name": "stdout",
     "output_type": "stream",
     "text": [
      "Token for \"the\" 1\n",
      "Token for \"Movie\" 17\n",
      "Token for \"generator\" 20359\n"
     ]
    }
   ],
   "source": [
    "word_index = tokenizer.word_index\n",
    "print('Token for \"the\"',word_index['the'])\n",
    "print('Token for \"Movie\"',word_index['movie'])\n",
    "print('Token for \"generator\"',word_index['generator'])"
   ]
  },
  {
   "cell_type": "code",
   "execution_count": 15,
   "metadata": {},
   "outputs": [
    {
     "data": {
      "text/plain": [
       "[2, 10, 63, 379, 12, 10, 1055, 9, 233, 311]"
      ]
     },
     "execution_count": 15,
     "metadata": {},
     "output_type": "execute_result"
    }
   ],
   "source": [
    "# Display the first 10 words of the sequence tokenized\n",
    "sequences[24002][:10]"
   ]
  },
  {
   "cell_type": "code",
   "execution_count": 16,
   "metadata": {},
   "outputs": [
    {
     "name": "stdout",
     "output_type": "stream",
     "text": [
      "(24975, 100)\n"
     ]
    }
   ],
   "source": [
    "from keras.preprocessing.sequence import pad_sequences\n",
    "\n",
    "data = pad_sequences(sequences, maxlen=100)\n",
    "print(data.shape) # We have 25K, 100 word sequences now"
   ]
  },
  {
   "cell_type": "code",
   "execution_count": 17,
   "metadata": {},
   "outputs": [],
   "source": [
    "labels = np.asarray(labels)\n",
    "\n",
    "# Shuffle data\n",
    "indices = np.arange(data.shape[0])\n",
    "np.random.shuffle(indices)\n",
    "data = data[indices]\n",
    "labels = labels[indices]\n",
    "\n",
    "training_samples = 20000  # We will be training on 10K samples\n",
    "validation_samples = 5000  # We will be validating on 10000 samples\n",
    "\n",
    "# Split data\n",
    "x_train = data[:training_samples]\n",
    "y_train = labels[:training_samples]\n",
    "x_val = data[training_samples: training_samples + validation_samples]\n",
    "y_val = labels[training_samples: training_samples + validation_samples]"
   ]
  },
  {
   "cell_type": "code",
   "execution_count": 18,
   "metadata": {},
   "outputs": [
    {
     "name": "stdout",
     "output_type": "stream",
     "text": [
      "Validation Accuracy: 0.5328643216080402\n"
     ]
    }
   ],
   "source": [
    "from sklearn.pipeline import make_pipeline\n",
    "from sklearn.ensemble import RandomForestClassifier\n",
    "\n",
    "pipeline = make_pipeline(RandomForestClassifier(n_estimators=100, random_state=42))\n",
    "\n",
    "# Fit the pipeline on training data\n",
    "pipeline.fit(x_train, y_train)\n",
    "\n",
    "# Predict on validation data\n",
    "y_pred = pipeline.predict(x_val)\n",
    "\n",
    "# Calculate accuracy\n",
    "accuracy = accuracy_score(y_val, y_pred)\n",
    "print(\"Validation Accuracy:\", accuracy)"
   ]
  },
  {
   "cell_type": "code",
   "execution_count": 19,
   "metadata": {},
   "outputs": [
    {
     "data": {
      "image/png": "[encoded data removed]",
      "text/plain": [
       "<Figure size 640x480 with 2 Axes>"
      ]
     },
     "metadata": {},
     "output_type": "display_data"
    }
   ],
   "source": [
    "# Generate confusion matrix\n",
    "cm = confusion_matrix(y_val, y_pred)\n",
    "# Display confusion matrix\n",
    "disp = ConfusionMatrixDisplay(confusion_matrix=cm)\n",
    "disp.plot()\n",
    "plt.show()"
   ]
  },
  {
   "cell_type": "code",
   "execution_count": 20,
   "metadata": {},
   "outputs": [
    {
     "name": "stdout",
     "output_type": "stream",
     "text": [
      "raw seq: [[47, 6, 3, 63, 75, 5817, 638, 22, 141, 784, 30, 342]]\n",
      "padded seq: [[   0    0    0    0    0    0    0    0    0    0    0    0    0    0\n",
      "     0    0    0    0    0    0    0    0    0    0    0    0    0    0\n",
      "     0    0    0    0    0    0    0    0    0    0    0    0    0    0\n",
      "     0    0    0    0    0    0    0    0    0    0    0    0    0    0\n",
      "     0    0    0    0    0    0    0    0    0    0    0    0    0    0\n",
      "     0    0    0    0    0    0    0    0    0    0    0    0    0    0\n",
      "     0    0    0    0   47    6    3   63   75 5817  638   22  141  784\n",
      "    30  342]]\n",
      "positivity: [0]\n"
     ]
    }
   ],
   "source": [
    "text = 'There is a really bad weather today, you should stay at home!'\n",
    "seq_gen = tokenizer.texts_to_sequences([text])\n",
    "print('raw seq:',seq_gen)\n",
    "seq_gen = pad_sequences(seq_gen, maxlen=100)\n",
    "print('padded seq:',seq_gen)\n",
    "prediction = pipeline.predict(seq_gen)\n",
    "print('positivity:',prediction)"
   ]
  },
  {
   "cell_type": "code",
   "execution_count": 21,
   "metadata": {},
   "outputs": [
    {
     "name": "stderr",
     "output_type": "stream",
     "text": [
      "400000it [00:13, 30380.31it/s]"
     ]
    },
    {
     "name": "stdout",
     "output_type": "stream",
     "text": [
      "Found 400000 word vectors.\n"
     ]
    },
    {
     "name": "stderr",
     "output_type": "stream",
     "text": [
      "\n"
     ]
    }
   ],
   "source": [
    "embeddings_index = {} # We create a dictionary of word -> embedding\n",
    "f = open(os.path.join('glove.6B.100d.txt'), encoding='utf-8')\n",
    "\n",
    "# In the dataset, each line represents a new word embedding\n",
    "# The line starts with the word and the embedding values follow\n",
    "for line in tqdm(f):\n",
    "    values = line.split()\n",
    "    word = values[0] # The first value is the word, the rest are the values of the embedding\n",
    "    embedding = np.asarray(values[1:], dtype='float32') # Load embedding\n",
    "    embeddings_index[word] = embedding # Add embedding to our embedding dictionary\n",
    "f.close()\n",
    "\n",
    "print('Found %s word vectors.' % len(embeddings_index))"
   ]
  },
  {
   "cell_type": "code",
   "execution_count": 22,
   "metadata": {},
   "outputs": [
    {
     "name": "stderr",
     "output_type": "stream",
     "text": [
      "C:\\Users\\kazom\\anaconda3\\lib\\site-packages\\IPython\\core\\interactiveshell.py:3338: FutureWarning: arrays to stack must be passed as a \"sequence\" type such as list or tuple. Support for non-sequence iterables such as generators is deprecated as of NumPy 1.16 and will raise an error in the future.\n",
      "  if await self.run_code(code, result, async_=asy):\n"
     ]
    }
   ],
   "source": [
    "# Create a matrix of all embeddings\n",
    "all_embs = np.stack(embeddings_index.values())\n",
    "emb_mean = all_embs.mean() # Calculate mean\n",
    "emb_std = all_embs.std() # Calculate standard deviation\n",
    "words = 10000\n",
    "word_idx = tokenizer.word_index\n",
    "embedding_dim = 100\n",
    "nb_words = min(10000, len(word_idx))\n",
    "embedding_matrix = np.random.normal(emb_mean, emb_std, (nb_words, embedding_dim))\n",
    "for word, i in word_idx.items():\n",
    "    if i >= words: \n",
    "        continue\n",
    "    embedding_vector = embeddings_index.get(word)\n",
    "    if embedding_vector is not None: \n",
    "        embedding_matrix[i] = embedding_vector"
   ]
  },
  {
   "cell_type": "code",
   "execution_count": 23,
   "metadata": {},
   "outputs": [
    {
     "name": "stdout",
     "output_type": "stream",
     "text": [
      "Model: \"sequential\"\n",
      "_________________________________________________________________\n",
      " Layer (type)                Output Shape              Param #   \n",
      "=================================================================\n",
      " embedding (Embedding)       (None, 100, 100)          1000000   \n",
      "                                                                 \n",
      " flatten (Flatten)           (None, 10000)             0         \n",
      "                                                                 \n",
      " dense (Dense)               (None, 32)                320032    \n",
      "                                                                 \n",
      " dense_1 (Dense)             (None, 1)                 33        \n",
      "                                                                 \n",
      "=================================================================\n",
      "Total params: 1320065 (5.04 MB)\n",
      "Trainable params: 320065 (1.22 MB)\n",
      "Non-trainable params: 1000000 (3.81 MB)\n",
      "_________________________________________________________________\n"
     ]
    }
   ],
   "source": [
    "from keras.models import Sequential\n",
    "from keras.layers import Embedding, Flatten, Dense\n",
    "model = Sequential()\n",
    "model.add(Embedding(words, embedding_dim, input_length=100, weights = [embedding_matrix], trainable = False))\n",
    "model.add(Flatten())\n",
    "model.add(Dense(32, activation='relu'))\n",
    "model.add(Dense(1, activation='sigmoid'))\n",
    "model.summary()"
   ]
  },
  {
   "cell_type": "code",
   "execution_count": 24,
   "metadata": {},
   "outputs": [],
   "source": [
    "model.compile(optimizer='adam',loss='binary_crossentropy',metrics=['acc'])"
   ]
  },
  {
   "cell_type": "code",
   "execution_count": 25,
   "metadata": {},
   "outputs": [
    {
     "name": "stdout",
     "output_type": "stream",
     "text": [
      "Epoch 1/10\n",
      "625/625 [==============================] - 5s 7ms/step - loss: 0.6150 - acc: 0.6591 - val_loss: 0.5717 - val_acc: 0.7019\n",
      "Epoch 2/10\n",
      "625/625 [==============================] - 4s 7ms/step - loss: 0.4905 - acc: 0.7631 - val_loss: 0.5375 - val_acc: 0.7226\n",
      "Epoch 3/10\n",
      "625/625 [==============================] - 4s 7ms/step - loss: 0.4373 - acc: 0.7978 - val_loss: 0.5787 - val_acc: 0.7120\n",
      "Epoch 4/10\n",
      "625/625 [==============================] - 4s 7ms/step - loss: 0.3999 - acc: 0.8158 - val_loss: 0.6410 - val_acc: 0.6838\n",
      "Epoch 5/10\n",
      "625/625 [==============================] - 4s 7ms/step - loss: 0.3632 - acc: 0.8339 - val_loss: 0.5916 - val_acc: 0.7170\n",
      "Epoch 6/10\n",
      "625/625 [==============================] - 5s 7ms/step - loss: 0.3338 - acc: 0.8492 - val_loss: 0.6669 - val_acc: 0.7180\n",
      "Epoch 7/10\n",
      "625/625 [==============================] - 4s 7ms/step - loss: 0.3002 - acc: 0.8672 - val_loss: 0.6864 - val_acc: 0.7208\n",
      "Epoch 8/10\n",
      "625/625 [==============================] - 5s 7ms/step - loss: 0.2637 - acc: 0.8859 - val_loss: 0.6964 - val_acc: 0.7194\n",
      "Epoch 9/10\n",
      "625/625 [==============================] - 5s 8ms/step - loss: 0.2397 - acc: 0.8993 - val_loss: 0.8083 - val_acc: 0.7180\n",
      "Epoch 10/10\n",
      "625/625 [==============================] - 5s 7ms/step - loss: 0.2044 - acc: 0.9133 - val_loss: 0.8896 - val_acc: 0.7110\n"
     ]
    }
   ],
   "source": [
    "history = model.fit(x_train, y_train,epochs=10,batch_size=32,validation_data=(x_val, y_val))"
   ]
  },
  {
   "cell_type": "code",
   "execution_count": 29,
   "metadata": {},
   "outputs": [
    {
     "name": "stdout",
     "output_type": "stream",
     "text": [
      "raw seq: [[47, 6, 3, 63, 75, 5817, 638, 22, 141, 784, 30, 342]]\n",
      "padded seq: [[   0    0    0    0    0    0    0    0    0    0    0    0    0    0\n",
      "     0    0    0    0    0    0    0    0    0    0    0    0    0    0\n",
      "     0    0    0    0    0    0    0    0    0    0    0    0    0    0\n",
      "     0    0    0    0    0    0    0    0    0    0    0    0    0    0\n",
      "     0    0    0    0    0    0    0    0    0    0    0    0    0    0\n",
      "     0    0    0    0    0    0    0    0    0    0    0    0    0    0\n",
      "     0    0    0    0   47    6    3   63   75 5817  638   22  141  784\n",
      "    30  342]]\n",
      "1/1 [==============================] - 0s 120ms/step\n",
      "positivity: [[0.04741407]]\n"
     ]
    }
   ],
   "source": [
    "text = 'There is a really bad weather today, you should stay at home!'\n",
    "seq_gen = tokenizer.texts_to_sequences([text])\n",
    "print('raw seq:',seq_gen)\n",
    "seq_gen = pad_sequences(seq_gen, maxlen=100)\n",
    "print('padded seq:',seq_gen)\n",
    "prediction = model.predict(seq_gen)\n",
    "print('positivity:',prediction)"
   ]
  },
  {
   "cell_type": "code",
   "execution_count": 32,
   "metadata": {},
   "outputs": [
    {
     "name": "stdout",
     "output_type": "stream",
     "text": [
      "raw seq: [[91, 3, 84, 248, 638, 10, 231, 37, 91, 58, 2040, 248]]\n",
      "padded seq: [[   0    0    0    0    0    0    0    0    0    0    0    0    0    0\n",
      "     0    0    0    0    0    0    0    0    0    0    0    0    0    0\n",
      "     0    0    0    0    0    0    0    0    0    0    0    0    0    0\n",
      "     0    0    0    0    0    0    0    0    0    0    0    0    0    0\n",
      "     0    0    0    0    0    0    0    0    0    0    0    0    0    0\n",
      "     0    0    0    0    0    0    0    0    0    0    0    0    0    0\n",
      "     0    0    0    0   91    3   84  248  638   10  231   37   91   58\n",
      "  2040  248]]\n",
      "1/1 [==============================] - 0s 33ms/step\n",
      "positivity: [[0.6912675]]\n"
     ]
    }
   ],
   "source": [
    "text = 'Its a great day today, I feel like its my lucky day'\n",
    "seq_gen = tokenizer.texts_to_sequences([text])\n",
    "print('raw seq:',seq_gen)\n",
    "seq_gen = pad_sequences(seq_gen, maxlen=100)\n",
    "print('padded seq:',seq_gen)\n",
    "prediction = model.predict(seq_gen)\n",
    "print('positivity:',prediction)"
   ]
  },
  {
   "cell_type": "code",
   "execution_count": 26,
   "metadata": {},
   "outputs": [
    {
     "name": "stdout",
     "output_type": "stream",
     "text": [
      "Validation Accuracy with Additional Features: 0.49005025125628143\n"
     ]
    }
   ],
   "source": [
    "from sklearn.preprocessing import StandardScaler\n",
    "from sklearn.compose import ColumnTransformer\n",
    "from nltk.sentiment.vader import SentimentIntensityAnalyzer\n",
    "\n",
    "# Instantiate SentimentIntensityAnalyzer\n",
    "sid = SentimentIntensityAnalyzer()\n",
    "\n",
    "# Function to extract sentiment scores\n",
    "def extract_sentiment_scores(text):\n",
    "    scores = sid.polarity_scores(text)\n",
    "    return [scores['neg'], scores['neu'], scores['pos'], scores['compound']]\n",
    "\n",
    "# Additional features extraction\n",
    "additional_features_train = np.array([extract_sentiment_scores(text) for text in texts[:training_samples]])\n",
    "additional_features_val = np.array([extract_sentiment_scores(text) for text in texts[training_samples: training_samples + validation_samples]])\n",
    "\n",
    "# Combine word embeddings with additional features\n",
    "x_train_combined = np.concatenate((x_train, additional_features_train), axis=1)\n",
    "x_val_combined = np.concatenate((x_val, additional_features_val), axis=1)\n",
    "\n",
    "# Define preprocessing steps for text and additional features\n",
    "preprocessor = ColumnTransformer(\n",
    "    transformers=[\n",
    "        ('scaler', StandardScaler(), slice(100, None))  # Scale additional features\n",
    "    ])\n",
    "\n",
    "from sklearn.model_selection import GridSearchCV\n",
    "\n",
    "# Define the parameter grid for RandomForestClassifier\n",
    "param_grid = {\n",
    "    'randomforestclassifier__n_estimators': [100, 200, 300],\n",
    "    'randomforestclassifier__max_depth': [None, 10, 20],\n",
    "    'randomforestclassifier__min_samples_split': [2, 5, 10],\n",
    "    'randomforestclassifier__min_samples_leaf': [1, 2, 4]\n",
    "}\n",
    "\n",
    "# Create pipeline with preprocessing and RandomForestClassifier\n",
    "pipeline = make_pipeline(preprocessor, RandomForestClassifier(random_state=42))\n",
    "\n",
    "# Create GridSearchCV object\n",
    "grid_search = GridSearchCV(pipeline, param_grid, cv=3, scoring='accuracy')\n",
    "\n",
    "# Fit the GridSearchCV on training data\n",
    "grid_search.fit(x_train_combined, y_train)\n",
    "\n",
    "# Get the best estimator from GridSearchCV\n",
    "best_pipeline = grid_search.best_estimator_\n",
    "\n",
    "# Predict on validation data using the best estimator\n",
    "y_pred = best_pipeline.predict(x_val_combined)\n",
    "\n",
    "# Calculate accuracy\n",
    "accuracy = accuracy_score(y_val, y_pred)\n",
    "print(\"Validation Accuracy with Additional Features:\", accuracy)"
   ]
  },
  {
   "cell_type": "code",
   "execution_count": 27,
   "metadata": {},
   "outputs": [
    {
     "name": "stdout",
     "output_type": "stream",
     "text": [
      "Validation Accuracy with Additional Features for Text Length: 0.49527638190954776\n"
     ]
    }
   ],
   "source": [
    "# Function to calculate the length of each review text\n",
    "def calculate_text_length(text):\n",
    "    return np.array([len(review) for review in text]).reshape(-1, 1)\n",
    "\n",
    "# Additional features extraction for text length\n",
    "additional_features_train_length = calculate_text_length(x_train)\n",
    "additional_features_val_length = calculate_text_length(x_val)\n",
    "\n",
    "# Combine word embeddings with additional features for text length\n",
    "x_train_combined_length = np.concatenate((x_train, additional_features_train_length), axis=1)\n",
    "x_val_combined_length = np.concatenate((x_val, additional_features_val_length), axis=1)\n",
    "\n",
    "# Define preprocessing steps for text and additional features\n",
    "preprocessor_length = ColumnTransformer(\n",
    "    transformers=[\n",
    "        ('scaler', StandardScaler(), slice(100, None))  # Scale additional features\n",
    "    ])\n",
    "\n",
    "# Create pipeline with preprocessing and RandomForestClassifier\n",
    "pipeline_length = make_pipeline(preprocessor_length, RandomForestClassifier(random_state=42))\n",
    "\n",
    "# Create GridSearchCV object\n",
    "grid_search_length = GridSearchCV(pipeline_length, param_grid, cv=3, scoring='accuracy')\n",
    "\n",
    "# Fit the GridSearchCV on training data\n",
    "grid_search_length.fit(x_train_combined_length, y_train)\n",
    "\n",
    "# Get the best estimator from GridSearchCV\n",
    "best_pipeline_length = grid_search_length.best_estimator_\n",
    "\n",
    "# Predict on validation data using the best estimator\n",
    "y_pred_length = best_pipeline_length.predict(x_val_combined_length)\n",
    "\n",
    "# Calculate accuracy\n",
    "accuracy_length = accuracy_score(y_val, y_pred_length)\n",
    "print(\"Validation Accuracy with Additional Features for Text Length:\", accuracy_length)"
   ]
  },
  {
   "cell_type": "code",
   "execution_count": 28,
   "metadata": {},
   "outputs": [
    {
     "name": "stdout",
     "output_type": "stream",
     "text": [
      "Validation Accuracy: 0.4992992992992993\n"
     ]
    }
   ],
   "source": [
    "# Function to check if each review contains the keywords\n",
    "def contains_keyword(text_sequences, reverse_word_index, keywords):\n",
    "    keyword_presence = []\n",
    "    for sequence in text_sequences:\n",
    "        # Convert sequence back to text\n",
    "        text = ' '.join([reverse_word_index.get(i, '') for i in sequence])\n",
    "        presence = [1 if keyword in text.lower() else 0 for keyword in keywords]\n",
    "        keyword_presence.append(presence)\n",
    "    return np.array(keyword_presence)\n",
    "\n",
    "# Tokenize the text data\n",
    "tokenizer = Tokenizer(num_words=10000) \n",
    "tokenizer.fit_on_texts(texts) \n",
    "sequences = tokenizer.texts_to_sequences(texts) \n",
    "word_index = tokenizer.word_index\n",
    "\n",
    "# Pad sequences to make them of equal length\n",
    "data = pad_sequences(sequences, maxlen=100)\n",
    "\n",
    "# Convert labels to numpy array\n",
    "labels = np.asarray(labels)\n",
    "\n",
    "# Shuffle data and split into train and validation sets\n",
    "x_train, x_val, y_train, y_val = train_test_split(data, labels, test_size=0.2, random_state=42)\n",
    "\n",
    "# Define keywords for feature extraction\n",
    "keywords = ['great', 'worst', 'amazing', 'awful', 'excellent', 'terrible']\n",
    "\n",
    "# Extract additional features for keyword presence\n",
    "additional_features_train = contains_keyword(x_train, word_index, keywords)\n",
    "additional_features_val = contains_keyword(x_val, word_index, keywords)\n",
    "\n",
    "# Combine word embeddings with additional features\n",
    "x_train_combined = np.concatenate((x_train, additional_features_train), axis=1)\n",
    "x_val_combined = np.concatenate((x_val, additional_features_val), axis=1)\n",
    "\n",
    "# Train RandomForestClassifier\n",
    "pipeline = make_pipeline(RandomForestClassifier(n_estimators=100, random_state=42))\n",
    "pipeline.fit(x_train_combined, y_train)\n",
    "\n",
    "# Predict on validation data\n",
    "y_pred = pipeline.predict(x_val_combined)\n",
    "\n",
    "# Calculate accuracy\n",
    "accuracy = accuracy_score(y_val, y_pred)\n",
    "print(\"Validation Accuracy:\", accuracy)"
   ]
  },
  {
   "cell_type": "markdown",
   "metadata": {},
   "source": [
    "The neural network using pre-trained word embeddings from a dictionary performed best.\n",
    "\n",
    "We can see that all other methods are not better than the first one, and this could be due to several reasons:\n",
    "\n",
    "1. Attention Mechanisms:\n",
    "\n",
    "* Advantage of Attention Mechanisms: They dynamically focus on relevant parts of the input sequence, improving performance, especially with long or complex sequences.\n",
    "* Disadvantage of Absence of Attention Mechanisms: Models without attention may have a fixed focus on all input parts, potentially leading to suboptimal performance.\n",
    "\n",
    "2. Ensemble Methods:\n",
    "\n",
    "* Advantage of Ensemble Methods: They combine multiple models' predictions, enhancing overall performance and robustness.\n",
    "* Disadvantage of Single Models: Single models may suffer from overfitting or limited capacity to capture complex data distributions."
   ]
  }
 ],
 "metadata": {
  "colab": {
   "provenance": []
  },
  "kernelspec": {
   "display_name": "Python 3 (ipykernel)",
   "language": "python",
   "name": "python3"
  },
  "language_info": {
   "codemirror_mode": {
    "name": "ipython",
    "version": 3
   },
   "file_extension": ".py",
   "mimetype": "text/x-python",
   "name": "python",
   "nbconvert_exporter": "python",
   "pygments_lexer": "ipython3",
   "version": "3.8.3"
  }
 },
 "nbformat": 4,
 "nbformat_minor": 1
}

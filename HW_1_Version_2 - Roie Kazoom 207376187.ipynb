{
 "cells": [
  {
   "cell_type": "markdown",
   "metadata": {
    "id": "_fq8BHLiYCyE"
   },
   "source": [
    "# Homework Assignment 1 Roie Kazoom 207376187\n",
    "### [The Art of Analyzing Big Data - The Data Scientist’s Toolbox](https://www.ise.bgu.ac.il/labs/fire/lectures.html)\n",
    "#### By Dr. Michael Fire"
   ]
  },
  {
   "cell_type": "markdown",
   "metadata": {
    "id": "jYvqtKSOYCyG"
   },
   "source": [
    "For this homework you will need to write code that analyzes real-world datasets. The code needs to be written in Python using the [sqlite3](https://docs.python.org/2/library/sqlite3.html) package.\n",
    "\n",
    "**Please note:** You need to answer only the questions that match your ID first digit."
   ]
  },
  {
   "cell_type": "markdown",
   "metadata": {
    "id": "AML-gkV-YCyI"
   },
   "source": [
    "# 1. Babies Names Dataset (35pt)"
   ]
  },
  {
   "cell_type": "markdown",
   "metadata": {
    "id": "jvkBrt7SYCyK"
   },
   "source": [
    "**Task 1 (for everyone):** Write a code that uses the  [**babies names dataset** ](https://www.kaggle.com/kaggle/us-baby-names?select=NationalNames.csv) (use StateNames.csv) and creates a table named (Names) with the dataset data and the following columns: 'State', 'Gender', 'Name', 'Count' , and 'Year' (5pt)\n",
    "**Bonus:** Load the data using a Batch INSERT SQL Query (2pt)"
   ]
  },
  {
   "cell_type": "code",
   "execution_count": 1,
   "metadata": {
    "code_folding": []
   },
   "outputs": [],
   "source": [
    "import sqlite3\n",
    "import pandas as pd\n",
    "from pathlib import Path\n",
    "\n",
    "# Load the StateNames.csv dataset into a Pandas DataFrame\n",
    "baby_names_df = pd.read_csv('StateNames.csv')\n",
    "\n",
    "# Create a connection to SQLite database\n",
    "conn = sqlite3.connect('baby_names.db')\n",
    "cursor = conn.cursor()\n",
    "\n",
    "# Define the schema for the 'Names' table\n",
    "create_table_query = \"\"\"\n",
    "CREATE TABLE IF NOT EXISTS Names (\n",
    "    State TEXT,\n",
    "    Gender TEXT,\n",
    "    Name TEXT,\n",
    "    Count INTEGER,\n",
    "    Year INTEGER\n",
    ");\n",
    "\"\"\"\n",
    "\n",
    "# Execute the create table query\n",
    "cursor.execute(create_table_query)\n",
    "\n",
    "# Commit the changes\n",
    "conn.commit()\n",
    "\n",
    "# Insert data into the 'Names' table using Batch INSERT SQL Query\n",
    "insert_query = \"\"\"\n",
    "INSERT INTO Names (State, Gender, Name, Count, Year)\n",
    "VALUES (?, ?, ?, ?, ?);\n",
    "\"\"\"\n",
    "\n",
    "# Convert DataFrame to list of tuples for batch insertion\n",
    "data_to_insert = baby_names_df[['State', 'Gender', 'Name', 'Count', 'Year']].values.tolist()\n",
    "\n",
    "# Execute the Batch INSERT SQL Query\n",
    "cursor.executemany(insert_query, data_to_insert)\n",
    "\n",
    "# Commit the changes and close the connection\n",
    "conn.commit()\n",
    "conn.close()"
   ]
  },
  {
   "cell_type": "code",
   "execution_count": 2,
   "metadata": {
    "scrolled": false
   },
   "outputs": [
    {
     "data": {
      "text/html": [
       "<div>\n",
       "<style scoped>\n",
       "    .dataframe tbody tr th:only-of-type {\n",
       "        vertical-align: middle;\n",
       "    }\n",
       "\n",
       "    .dataframe tbody tr th {\n",
       "        vertical-align: top;\n",
       "    }\n",
       "\n",
       "    .dataframe thead th {\n",
       "        text-align: right;\n",
       "    }\n",
       "</style>\n",
       "<table border=\"1\" class=\"dataframe\">\n",
       "  <thead>\n",
       "    <tr style=\"text-align: right;\">\n",
       "      <th></th>\n",
       "      <th>Id</th>\n",
       "      <th>Name</th>\n",
       "      <th>Year</th>\n",
       "      <th>Gender</th>\n",
       "      <th>State</th>\n",
       "      <th>Count</th>\n",
       "    </tr>\n",
       "  </thead>\n",
       "  <tbody>\n",
       "    <tr>\n",
       "      <th>0</th>\n",
       "      <td>1</td>\n",
       "      <td>Mary</td>\n",
       "      <td>1910</td>\n",
       "      <td>F</td>\n",
       "      <td>AK</td>\n",
       "      <td>14</td>\n",
       "    </tr>\n",
       "    <tr>\n",
       "      <th>1</th>\n",
       "      <td>2</td>\n",
       "      <td>Annie</td>\n",
       "      <td>1910</td>\n",
       "      <td>F</td>\n",
       "      <td>AK</td>\n",
       "      <td>12</td>\n",
       "    </tr>\n",
       "    <tr>\n",
       "      <th>2</th>\n",
       "      <td>3</td>\n",
       "      <td>Anna</td>\n",
       "      <td>1910</td>\n",
       "      <td>F</td>\n",
       "      <td>AK</td>\n",
       "      <td>10</td>\n",
       "    </tr>\n",
       "    <tr>\n",
       "      <th>3</th>\n",
       "      <td>4</td>\n",
       "      <td>Margaret</td>\n",
       "      <td>1910</td>\n",
       "      <td>F</td>\n",
       "      <td>AK</td>\n",
       "      <td>8</td>\n",
       "    </tr>\n",
       "    <tr>\n",
       "      <th>4</th>\n",
       "      <td>5</td>\n",
       "      <td>Helen</td>\n",
       "      <td>1910</td>\n",
       "      <td>F</td>\n",
       "      <td>AK</td>\n",
       "      <td>7</td>\n",
       "    </tr>\n",
       "  </tbody>\n",
       "</table>\n",
       "</div>"
      ],
      "text/plain": [
       "   Id      Name  Year Gender State  Count\n",
       "0   1      Mary  1910      F    AK     14\n",
       "1   2     Annie  1910      F    AK     12\n",
       "2   3      Anna  1910      F    AK     10\n",
       "3   4  Margaret  1910      F    AK      8\n",
       "4   5     Helen  1910      F    AK      7"
      ]
     },
     "execution_count": 2,
     "metadata": {},
     "output_type": "execute_result"
    }
   ],
   "source": [
    "# Reconnect to SQLite database\n",
    "conn = sqlite3.connect('baby_names.db')\n",
    "\n",
    "# Define the SQL query to select all rows from the 'Names' table\n",
    "select_query = \"\"\"\n",
    "SELECT *\n",
    "FROM Names\n",
    "LIMIT 5;\n",
    "\"\"\"\n",
    "\n",
    "# Execute the query and fetch the results\n",
    "cursor = conn.cursor()\n",
    "cursor.execute(select_query)\n",
    "result = cursor.fetchall()\n",
    "\n",
    "# Get column names from the cursor description\n",
    "columns = [description[0] for description in cursor.description]\n",
    "\n",
    "# Create a DataFrame from the fetched results\n",
    "result_df = pd.DataFrame(result, columns=columns)\n",
    "\n",
    "# Print the result\n",
    "result_df"
   ]
  },
  {
   "cell_type": "markdown",
   "metadata": {
    "id": "QEbvkQhCYCyP"
   },
   "source": [
    "**Task 2 (for everyone):** Write a query that returns the statistics for the name Mary (5pt). Use the [the timeit package](https://docs.python.org/3/library/timeit.html) to measure the time it takes the query to run (5pt). **Bonus:** [Create an index](https://www.w3schools.com/sql/sql_create_index.asp)  on the _Name_ column and use the [the timeit package](https://docs.python.org/3/library/timeit.html) to measure the time it takes the query to run with the index (5pt)"
   ]
  },
  {
   "cell_type": "code",
   "execution_count": 3,
   "metadata": {
    "id": "YBCHPAOzYCyR"
   },
   "outputs": [
    {
     "name": "stdout",
     "output_type": "stream",
     "text": [
      "Query without index:\n",
      "   Name Gender  TotalCount    AvgCount  MinYear  MaxYear\n",
      "0  Mary      F    18654280  701.684409     1910     2014\n",
      "1  Mary      M       48195    9.145161     1910     2004\n",
      "Time taken without index: 2.942533 seconds\n",
      "\n",
      "Query with index:\n",
      "   Name Gender  TotalCount    AvgCount  MinYear  MaxYear\n",
      "0  Mary      F    18654280  701.684409     1910     2014\n",
      "1  Mary      M       48195    9.145161     1910     2004\n",
      "Time taken with index: 0.249855 seconds\n"
     ]
    }
   ],
   "source": [
    "# Import necessary libraries\n",
    "import timeit\n",
    "\n",
    "# Create a connection to SQLite database\n",
    "conn = sqlite3.connect('baby_names.db')\n",
    "cursor = conn.cursor()\n",
    "\n",
    "# Task 2: Query without index and measure the time\n",
    "query_without_index = \"\"\"\n",
    "SELECT Name, Gender, SUM(Count) as TotalCount, AVG(Count) as AvgCount, MIN(Year) as MinYear, MAX(Year) as MaxYear\n",
    "FROM Names\n",
    "WHERE Name = 'Mary'\n",
    "GROUP BY Name, Gender;\n",
    "\"\"\"\n",
    "\n",
    "time_without_index = timeit.timeit(lambda: pd.read_sql_query(query_without_index, conn), number=1)\n",
    "\n",
    "print(\"Query without index:\")\n",
    "result_without_index = pd.read_sql_query(query_without_index, conn)\n",
    "print(result_without_index)\n",
    "print(f\"Time taken without index: {time_without_index:.6f} seconds\")\n",
    "\n",
    "# Create an index on the 'Name' column\n",
    "create_index_query = \"CREATE INDEX IF NOT EXISTS idx_name ON Names(Name);\"\n",
    "cursor.execute(create_index_query)\n",
    "\n",
    "# Commit the changes\n",
    "conn.commit()\n",
    "\n",
    "# Task 2 Bonus: Query with index and measure the time\n",
    "query_with_index = \"\"\"\n",
    "SELECT Name, Gender, SUM(Count) as TotalCount, AVG(Count) as AvgCount, MIN(Year) as MinYear, MAX(Year) as MaxYear\n",
    "FROM Names\n",
    "WHERE Name = 'Mary'\n",
    "GROUP BY Name, Gender;\n",
    "\"\"\"\n",
    "\n",
    "time_with_index = timeit.timeit(lambda: pd.read_sql_query(query_with_index, conn), number=1)\n",
    "\n",
    "print(\"\\nQuery with index:\")\n",
    "result_with_index = pd.read_sql_query(query_with_index, conn)\n",
    "print(result_with_index)\n",
    "print(f\"Time taken with index: {time_with_index:.6f} seconds\")\n",
    "\n",
    "# Close the connection\n",
    "conn.close()"
   ]
  },
  {
   "cell_type": "markdown",
   "metadata": {
    "id": "6dClZxXjYCyU"
   },
   "source": [
    "### <span style=\"color:red\"> Please answer only **one** of the following questions according to your ID number (use the formula **Question = <YOUR_ID> mod 4 +1**) </span>"
   ]
  },
  {
   "cell_type": "code",
   "execution_count": 4,
   "metadata": {
    "id": "iDpqwgwQYCyV"
   },
   "outputs": [
    {
     "name": "stdout",
     "output_type": "stream",
     "text": [
      "You need to answer question number 4\n"
     ]
    }
   ],
   "source": [
    "# which question to answer - put your ID number and run the code\n",
    "your_id  = \"207376187\"\n",
    "q = int(your_id) % 4 + 1\n",
    "print(\"You need to answer question number %s\" % q)"
   ]
  },
  {
   "cell_type": "markdown",
   "metadata": {
    "id": "bGU71KQ8YCyZ"
   },
   "source": [
    "***Question 1:*** Write a function that returns how many *female and* male babies were born in a given state in a given year.\n",
    "Use it to calculate the number of babies born in WA in 2000 (10pt)"
   ]
  },
  {
   "cell_type": "code",
   "execution_count": null,
   "metadata": {
    "id": "0RB3GjaaYCya"
   },
   "outputs": [],
   "source": []
  },
  {
   "cell_type": "markdown",
   "metadata": {
    "id": "510Wry5WYCye"
   },
   "source": [
    "***Question 2:*** Write a function that returns how many female babies were born between a given range of years.\n",
    "Use it to calculate how many babies were born between 1850 and 1950  (10pt)"
   ]
  },
  {
   "cell_type": "code",
   "execution_count": null,
   "metadata": {
    "id": "m5wOKWsBYCyf"
   },
   "outputs": [],
   "source": []
  },
  {
   "cell_type": "markdown",
   "metadata": {
    "id": "x721dD1NYCyi"
   },
   "source": [
    "**Question 3:** Write a function that returns the most common female name in a given state. Use it to calculate the most common female name in CA in 1999 (10pt)"
   ]
  },
  {
   "cell_type": "code",
   "execution_count": null,
   "metadata": {
    "id": "h3t_ouDoYCyj"
   },
   "outputs": [],
   "source": []
  },
  {
   "cell_type": "markdown",
   "metadata": {
    "id": "mRyUoBvhYCyl"
   },
   "source": [
    "**Question 4:** Write a function that returns how many male babies named _Robert_ where born in a given state in a given year. Use it to find the state in which the highest number of babies _Robert_ where born in 1950 (10pt)"
   ]
  },
  {
   "cell_type": "code",
   "execution_count": 5,
   "metadata": {
    "id": "lz1q1mvPYCym"
   },
   "outputs": [
    {
     "name": "stdout",
     "output_type": "stream",
     "text": [
      "In 1950, the state with the highest number of babies named Robert was NY with 43110 births.\n"
     ]
    }
   ],
   "source": [
    "def get_robert_births(state, year):\n",
    "    \"\"\"\n",
    "    Get the number of male babies named Robert born in a given state in a given year.\n",
    "    \n",
    "    Parameters:\n",
    "    - state (str): The state for which to retrieve the information.\n",
    "    - year (int): The year for which to retrieve the information.\n",
    "    \n",
    "    Returns:\n",
    "    - int: Number of male babies named Robert born in the specified state and year.\n",
    "    \"\"\"\n",
    "    conn = sqlite3.connect('baby_names.db')\n",
    "    cursor = conn.cursor()\n",
    "\n",
    "    query = \"\"\"\n",
    "    SELECT SUM(Count) as RobertBirths\n",
    "    FROM Names\n",
    "    WHERE Name = 'Robert' AND Gender = 'M' AND State = ? AND Year = ?;\n",
    "    \"\"\"\n",
    "\n",
    "    result = cursor.execute(query, (state, year)).fetchone()\n",
    "    robert_births = result[0] if result else 0\n",
    "\n",
    "    conn.close()\n",
    "\n",
    "    return robert_births\n",
    "\n",
    "# Find the state with the highest number of babies named Robert in 1950\n",
    "year_of_interest = 1950\n",
    "\n",
    "# Get Robert births for all states in 1950\n",
    "robert_births_by_state = [(state, get_robert_births(state, year_of_interest)) for state in set(baby_names_df['State'])]\n",
    "\n",
    "# Find the state with the highest number of Robert births in 1950\n",
    "max_robert_births_state = max(robert_births_by_state, key=lambda x: x[1])\n",
    "\n",
    "print(\n",
    "f\"In {year_of_interest}, the state with the highest number of babies named Robert was {max_robert_births_state[0]} with {max_robert_births_state[1]} births.\")"
   ]
  },
  {
   "cell_type": "markdown",
   "metadata": {
    "id": "THz0vDHHYCyo"
   },
   "source": [
    "**Question (for everyone):** For the state of CA write code that calculates the third most popular female/male names in each decade (10pt). **Bonus**: Visualize it somehow using Matplotlib (5pt)"
   ]
  },
  {
   "cell_type": "code",
   "execution_count": 6,
   "metadata": {
    "id": "dVRTQGOS_3G9"
   },
   "outputs": [
    {
     "data": {
      "image/png": "[encoded data removed]",
      "text/plain": [
       "<Figure size 1200x600 with 1 Axes>"
      ]
     },
     "metadata": {},
     "output_type": "display_data"
    },
    {
     "data": {
      "image/png": "[encoded data removed]",
      "text/plain": [
       "<Figure size 1200x600 with 1 Axes>"
      ]
     },
     "metadata": {},
     "output_type": "display_data"
    }
   ],
   "source": [
    "import matplotlib.pyplot as plt\n",
    "\n",
    "# Function to calculate the third most popular names in each decade\n",
    "def calculate_third_most_popular_names(state, gender):\n",
    "    conn = sqlite3.connect('baby_names.db')\n",
    "    cursor = conn.cursor()\n",
    "\n",
    "    query = \"\"\"\n",
    "    SELECT SUBSTR(CAST(Year AS TEXT), 1, 3) || '0s' AS Decade, Name, SUM(Count) AS TotalCount\n",
    "    FROM Names\n",
    "    WHERE State = ? AND Gender = ? AND Year % 10 = 0\n",
    "    GROUP BY Decade, Name\n",
    "    ORDER BY Decade, TotalCount DESC\n",
    "    \"\"\"\n",
    "\n",
    "    result = pd.read_sql_query(query, conn, params=(state, gender))\n",
    "\n",
    "    # Calculate the third most popular names in each decade\n",
    "    third_most_popular_names = result.groupby('Decade').apply(lambda x: x.nlargest(3, 'TotalCount').tail(1))\n",
    "\n",
    "    conn.close()\n",
    "\n",
    "    return third_most_popular_names[['Decade', 'Name', 'TotalCount']]\n",
    "\n",
    "# Calculate the third most popular female names in each decade for CA\n",
    "third_most_popular_female_names = calculate_third_most_popular_names('CA', 'F')\n",
    "\n",
    "# Calculate the third most popular male names in each decade for CA\n",
    "third_most_popular_male_names = calculate_third_most_popular_names('CA', 'M')\n",
    "\n",
    "# Bonus: Visualize the results using Matplotlib\n",
    "def plot_third_most_popular_names(names_df, gender):\n",
    "    plt.figure(figsize=(12, 6))\n",
    "    plt.title(f'Third Most Popular {gender} Names in Each Decade (CA)')\n",
    "    for name, group in names_df.groupby('Name'):\n",
    "        plt.plot(group['Decade'], group['TotalCount'], label=name, marker='o')\n",
    "\n",
    "    plt.xlabel('Decade')\n",
    "    plt.ylabel('Total Count')\n",
    "    plt.legend()\n",
    "    plt.grid(True)\n",
    "    plt.show()\n",
    "\n",
    "# Visualize the results for female names\n",
    "plot_third_most_popular_names(third_most_popular_female_names, 'Female')\n",
    "\n",
    "# Visualize the results for male names\n",
    "plot_third_most_popular_names(third_most_popular_male_names, 'Male')"
   ]
  },
  {
   "cell_type": "markdown",
   "metadata": {
    "id": "gmdQrLL9YCyp"
   },
   "source": [
    "# 2. Flavors of Cacao Dataset (15pt)"
   ]
  },
  {
   "cell_type": "markdown",
   "metadata": {
    "id": "dTpNKH7UYCyq"
   },
   "source": [
    "Using the [Flavors of Cacao](https://www.kaggle.com/rombikuboktaeder/choco-flavors) dataset, answer the following questions:"
   ]
  },
  {
   "cell_type": "markdown",
   "metadata": {
    "id": "wbg9gkVtYCyr"
   },
   "source": [
    "**Question 1:** Write a function that returns the number of bars manufactured where the bars' BroadBean Origin is a given country. Use the function to calculate the number of bars where BroadBean Origin is 'Ecuador' (15pt)"
   ]
  },
  {
   "cell_type": "code",
   "execution_count": 7,
   "metadata": {
    "id": "D5FWfEiaYCys"
   },
   "outputs": [
    {
     "name": "stdout",
     "output_type": "stream",
     "text": [
      "The number of bars manufactured in Ecuador is: 193\n"
     ]
    }
   ],
   "source": [
    "# Load the flavors_of_cacao.csv dataset into a Pandas DataFrame\n",
    "cacao_df = pd.read_csv(\"flavors_of_cacao.csv\")\n",
    "\n",
    "# Create a connection to SQLite database\n",
    "conn = sqlite3.connect('flavors_of_cacao.db')\n",
    "\n",
    "# Save the DataFrame to an SQLite table named 'ChocolateBars'\n",
    "cacao_df.to_sql('ChocolateBars', conn, index=False, if_exists='replace')\n",
    "\n",
    "# Commit the changes and close the connection\n",
    "conn.commit()\n",
    "conn.close()\n",
    "\n",
    "# Function to count bars by BroadBean Origin\n",
    "def count_bars_by_origin(country):\n",
    "    conn = sqlite3.connect('flavors_of_cacao.db')\n",
    "    cursor = conn.cursor()\n",
    "\n",
    "    query = \"\"\"\n",
    "    SELECT COUNT(*) as BarCount\n",
    "    FROM ChocolateBars\n",
    "    WHERE \"Broad Bean\\nOrigin\" = ?;\n",
    "    \"\"\"\n",
    "\n",
    "    result = cursor.execute(query, (country,)).fetchone()\n",
    "    bar_count = result[0] if result else 0\n",
    "\n",
    "    conn.close()\n",
    "\n",
    "    return bar_count\n",
    "\n",
    "# Example: Calculate the number of bars where BroadBean Origin is 'Ecuador'\n",
    "ecuador_bar_count = count_bars_by_origin('Ecuador')\n",
    "\n",
    "print(f\"The number of bars manufactured in Ecuador is: {ecuador_bar_count}\")"
   ]
  },
  {
   "cell_type": "code",
   "execution_count": 8,
   "metadata": {},
   "outputs": [
    {
     "data": {
      "text/plain": [
       "Index(['Company \\n(Maker-if known)', 'Specific Bean Origin\\nor Bar Name',\n",
       "       'REF', 'Review\\nDate', 'Cocoa\\nPercent', 'Company\\nLocation', 'Rating',\n",
       "       'Bean\\nType', 'Broad Bean\\nOrigin'],\n",
       "      dtype='object')"
      ]
     },
     "execution_count": 8,
     "metadata": {},
     "output_type": "execute_result"
    }
   ],
   "source": [
    "cacao_df.columns"
   ]
  },
  {
   "cell_type": "markdown",
   "metadata": {
    "id": "9GCvKxWtYCyu"
   },
   "source": [
    "**Question 2:** Write a function that returns the maximal and average cocoa percentage in a bar manufactured by a company in a specific country. Use the function to calculate the minimal and average cocoa percentage in bars manufactured by a Swiss company (15pt)."
   ]
  },
  {
   "cell_type": "code",
   "execution_count": 9,
   "metadata": {
    "id": "KZJXxtwWYCyv"
   },
   "outputs": [
    {
     "name": "stdout",
     "output_type": "stream",
     "text": [
      "Maximal and Average Cocoa Percentage for Companies in Switzerland:\n",
      "                      Company MaxCocoa   AvgCocoa\n",
      "0  Company \\n(Maker-if known)      88%  71.210526\n"
     ]
    }
   ],
   "source": [
    "# Function to calculate maximal and average cocoa percentage for all companies in a specific country\n",
    "def calculate_cocoa_stats(country):\n",
    "    conn = sqlite3.connect('flavors_of_cacao.db')\n",
    "    cursor = conn.cursor()\n",
    "\n",
    "    query = \"\"\"\n",
    "    SELECT \"Company \\n(Maker-if known)\", MAX(\"Cocoa\\nPercent\") as MaxCocoa, AVG(\"Cocoa\\nPercent\") as AvgCocoa\n",
    "    FROM ChocolateBars\n",
    "    WHERE \"Company\\nLocation\" = ?\n",
    "    GROUP BY \"Company \\n(Maker-if known)\";\n",
    "    \"\"\"\n",
    "\n",
    "    result = cursor.execute(query, (country,)).fetchall()\n",
    "    \n",
    "    cocoa_stats_by_company = pd.DataFrame(result, columns=['Company', 'MaxCocoa', 'AvgCocoa'])\n",
    "    \n",
    "    conn.close()\n",
    "\n",
    "    return cocoa_stats_by_company\n",
    "\n",
    "# Example: Calculate maximal and average cocoa percentage for all companies in Switzerland\n",
    "swiss_country = \"Switzerland\"\n",
    "cocoa_stats_switzerland = calculate_cocoa_stats(swiss_country)\n",
    "\n",
    "# Display the results\n",
    "print(\"Maximal and Average Cocoa Percentage for Companies in Switzerland:\")\n",
    "print(cocoa_stats_switzerland)"
   ]
  },
  {
   "cell_type": "markdown",
   "metadata": {
    "id": "GlYqUA1xYCyx"
   },
   "source": [
    "**Question 3:** Calculate the second most common bean type(s) and the most rare bean type(s) (15\n",
    "pt)"
   ]
  },
  {
   "cell_type": "code",
   "execution_count": null,
   "metadata": {
    "id": "kk0qIAiwYCyx"
   },
   "outputs": [],
   "source": []
  },
  {
   "cell_type": "markdown",
   "metadata": {
    "id": "aOg-NK_lYCyz"
   },
   "source": [
    "**Question 4:** Calculate the number of reviews and the average rating in each year. Calculate the number of reviews and the average rating of each company in each year (15pt)"
   ]
  },
  {
   "cell_type": "code",
   "execution_count": 10,
   "metadata": {
    "id": "e8qwHAldYCy0"
   },
   "outputs": [
    {
     "name": "stdout",
     "output_type": "stream",
     "text": [
      "Number of Reviews and Average Rating by Year:\n",
      "    Year  NumReviews  AvgRating\n",
      "0   2006          72   3.125000\n",
      "1   2007          77   3.162338\n",
      "2   2008          93   2.994624\n",
      "3   2009         123   3.073171\n",
      "4   2010         111   3.148649\n",
      "5   2011         165   3.256061\n",
      "6   2012         195   3.178205\n",
      "7   2013         184   3.197011\n",
      "8   2014         247   3.189271\n",
      "9   2015         285   3.246491\n",
      "10  2016         219   3.226027\n",
      "11  2017          24   3.312500\n",
      "\n",
      "Number of Reviews and Average Rating by Company and Year:\n",
      "    Year                     Company  NumReviews  AvgRating\n",
      "0   2006  Company \\n(Maker-if known)          72   3.125000\n",
      "1   2007  Company \\n(Maker-if known)          77   3.162338\n",
      "2   2008  Company \\n(Maker-if known)          93   2.994624\n",
      "3   2009  Company \\n(Maker-if known)         123   3.073171\n",
      "4   2010  Company \\n(Maker-if known)         111   3.148649\n",
      "5   2011  Company \\n(Maker-if known)         165   3.256061\n",
      "6   2012  Company \\n(Maker-if known)         195   3.178205\n",
      "7   2013  Company \\n(Maker-if known)         184   3.197011\n",
      "8   2014  Company \\n(Maker-if known)         247   3.189271\n",
      "9   2015  Company \\n(Maker-if known)         285   3.246491\n",
      "10  2016  Company \\n(Maker-if known)         219   3.226027\n",
      "11  2017  Company \\n(Maker-if known)          24   3.312500\n"
     ]
    }
   ],
   "source": [
    "# Function to calculate the number of reviews and average rating in each year\n",
    "def calculate_reviews_and_ratings_by_year():\n",
    "    conn = sqlite3.connect('flavors_of_cacao.db')\n",
    "    cursor = conn.cursor()\n",
    "\n",
    "    # Calculate the number of reviews and average rating in each year\n",
    "    query_reviews_and_ratings_by_year = \"\"\"\n",
    "    SELECT \"Review\\nDate\" as Year, COUNT(*) as NumReviews, AVG(Rating) as AvgRating\n",
    "    FROM ChocolateBars\n",
    "    GROUP BY Year\n",
    "    ORDER BY Year;\n",
    "    \"\"\"\n",
    "    \n",
    "    reviews_and_ratings_by_year = pd.read_sql_query(query_reviews_and_ratings_by_year, conn)\n",
    "\n",
    "    conn.close()\n",
    "\n",
    "    return reviews_and_ratings_by_year\n",
    "\n",
    "# Function to calculate the number of reviews and average rating of each company in each year\n",
    "def calculate_reviews_and_ratings_by_company_and_year():\n",
    "    conn = sqlite3.connect('flavors_of_cacao.db')\n",
    "    cursor = conn.cursor()\n",
    "\n",
    "    # Calculate the number of reviews and average rating of each company in each year\n",
    "    query_reviews_and_ratings_by_company_and_year = \"\"\"\n",
    "    SELECT \"Review\\nDate\" as Year, \"Company \\n(Maker-if known)\" as Company, COUNT(*) as NumReviews, AVG(Rating) as AvgRating\n",
    "    FROM ChocolateBars\n",
    "    GROUP BY Year, Company\n",
    "    ORDER BY Year, AvgRating DESC;\n",
    "    \"\"\"\n",
    "    \n",
    "    reviews_and_ratings_by_company_and_year = pd.read_sql_query(query_reviews_and_ratings_by_company_and_year, conn)\n",
    "\n",
    "    conn.close()\n",
    "\n",
    "    return reviews_and_ratings_by_company_and_year\n",
    "\n",
    "# Example: Calculate reviews and ratings by year\n",
    "reviews_and_ratings_by_year = calculate_reviews_and_ratings_by_year()\n",
    "\n",
    "# Example: Calculate reviews and ratings by company and year\n",
    "reviews_and_ratings_by_company_and_year = calculate_reviews_and_ratings_by_company_and_year()\n",
    "\n",
    "# Display the results\n",
    "print(\"Number of Reviews and Average Rating by Year:\")\n",
    "print(reviews_and_ratings_by_year)\n",
    "\n",
    "print(\"\\nNumber of Reviews and Average Rating by Company and Year:\")\n",
    "print(reviews_and_ratings_by_company_and_year)"
   ]
  },
  {
   "cell_type": "code",
   "execution_count": 11,
   "metadata": {
    "scrolled": false
   },
   "outputs": [
    {
     "data": {
      "text/html": [
       "<div>\n",
       "<style scoped>\n",
       "    .dataframe tbody tr th:only-of-type {\n",
       "        vertical-align: middle;\n",
       "    }\n",
       "\n",
       "    .dataframe tbody tr th {\n",
       "        vertical-align: top;\n",
       "    }\n",
       "\n",
       "    .dataframe thead th {\n",
       "        text-align: right;\n",
       "    }\n",
       "</style>\n",
       "<table border=\"1\" class=\"dataframe\">\n",
       "  <thead>\n",
       "    <tr style=\"text-align: right;\">\n",
       "      <th></th>\n",
       "      <th>Review\\nDate</th>\n",
       "      <th>NumReviews</th>\n",
       "      <th>AvgRating</th>\n",
       "    </tr>\n",
       "  </thead>\n",
       "  <tbody>\n",
       "    <tr>\n",
       "      <th>0</th>\n",
       "      <td>2006</td>\n",
       "      <td>72</td>\n",
       "      <td>3.125000</td>\n",
       "    </tr>\n",
       "    <tr>\n",
       "      <th>1</th>\n",
       "      <td>2007</td>\n",
       "      <td>77</td>\n",
       "      <td>3.162338</td>\n",
       "    </tr>\n",
       "    <tr>\n",
       "      <th>2</th>\n",
       "      <td>2008</td>\n",
       "      <td>93</td>\n",
       "      <td>2.994624</td>\n",
       "    </tr>\n",
       "    <tr>\n",
       "      <th>3</th>\n",
       "      <td>2009</td>\n",
       "      <td>123</td>\n",
       "      <td>3.073171</td>\n",
       "    </tr>\n",
       "    <tr>\n",
       "      <th>4</th>\n",
       "      <td>2010</td>\n",
       "      <td>111</td>\n",
       "      <td>3.148649</td>\n",
       "    </tr>\n",
       "    <tr>\n",
       "      <th>5</th>\n",
       "      <td>2011</td>\n",
       "      <td>165</td>\n",
       "      <td>3.256061</td>\n",
       "    </tr>\n",
       "    <tr>\n",
       "      <th>6</th>\n",
       "      <td>2012</td>\n",
       "      <td>195</td>\n",
       "      <td>3.178205</td>\n",
       "    </tr>\n",
       "    <tr>\n",
       "      <th>7</th>\n",
       "      <td>2013</td>\n",
       "      <td>184</td>\n",
       "      <td>3.197011</td>\n",
       "    </tr>\n",
       "    <tr>\n",
       "      <th>8</th>\n",
       "      <td>2014</td>\n",
       "      <td>247</td>\n",
       "      <td>3.189271</td>\n",
       "    </tr>\n",
       "    <tr>\n",
       "      <th>9</th>\n",
       "      <td>2015</td>\n",
       "      <td>285</td>\n",
       "      <td>3.246491</td>\n",
       "    </tr>\n",
       "    <tr>\n",
       "      <th>10</th>\n",
       "      <td>2016</td>\n",
       "      <td>219</td>\n",
       "      <td>3.226027</td>\n",
       "    </tr>\n",
       "    <tr>\n",
       "      <th>11</th>\n",
       "      <td>2017</td>\n",
       "      <td>24</td>\n",
       "      <td>3.312500</td>\n",
       "    </tr>\n",
       "  </tbody>\n",
       "</table>\n",
       "</div>"
      ],
      "text/plain": [
       "    Review\\nDate  NumReviews  AvgRating\n",
       "0           2006          72   3.125000\n",
       "1           2007          77   3.162338\n",
       "2           2008          93   2.994624\n",
       "3           2009         123   3.073171\n",
       "4           2010         111   3.148649\n",
       "5           2011         165   3.256061\n",
       "6           2012         195   3.178205\n",
       "7           2013         184   3.197011\n",
       "8           2014         247   3.189271\n",
       "9           2015         285   3.246491\n",
       "10          2016         219   3.226027\n",
       "11          2017          24   3.312500"
      ]
     },
     "execution_count": 11,
     "metadata": {},
     "output_type": "execute_result"
    }
   ],
   "source": [
    "# Checking myself with Pandas. # JUST FOR CHECK\n",
    "\n",
    "# Load the flavors_of_cacao.csv dataset into a Pandas DataFrame\n",
    "cacao_df = pd.read_csv(\"flavors_of_cacao.csv\", parse_dates=['Review\\nDate'], dayfirst=True)\n",
    "\n",
    "# Calculate the number of reviews and average rating in each year\n",
    "result_by_year = cacao_df.groupby(cacao_df['Review\\nDate'].dt.year).agg(\n",
    "    NumReviews=('Review\\nDate', 'size'),\n",
    "    AvgRating=('Rating', 'mean')\n",
    ").reset_index()\n",
    "\n",
    "# Display the results\n",
    "result_by_year"
   ]
  },
  {
   "cell_type": "markdown",
   "metadata": {
    "id": "eKx7_9vyYCy1"
   },
   "source": [
    "# 3. Kickstarter Projects Dataset (25pt)"
   ]
  },
  {
   "cell_type": "markdown",
   "metadata": {
    "id": "5HXua9B5YCy2"
   },
   "source": [
    "Using the [Kickstarter Projects Dataset](https://www.kaggle.com/kemical/kickstarter-projects#ks-projects-201801.csv), answer the following questions:"
   ]
  },
  {
   "cell_type": "markdown",
   "metadata": {
    "id": "NGgJ1dyeZiFH"
   },
   "source": [
    "**Task 1 (for everyone):** Load the dataset to SQLite DB using [PonyORM](https://ponyorm.org) (10pt)"
   ]
  },
  {
   "cell_type": "code",
   "execution_count": 13,
   "metadata": {},
   "outputs": [
    {
     "name": "stderr",
     "output_type": "stream",
     "text": [
      "C:\\Users\\kazom\\AppData\\Local\\Temp\\ipykernel_17856\\3654622946.py:17: DtypeWarning: Columns (13,14,15) have mixed types. Specify dtype option on import or set low_memory=False.\n",
      "  df = pd.read_csv('ks-projects-201612.csv', encoding='ISO-8859-1')\n"
     ]
    }
   ],
   "source": [
    "import pandas as pd\n",
    "from pony.orm import Database, Required, Optional, Set, db_session, sql_debug\n",
    "import os\n",
    "from decimal import Decimal\n",
    "from datetime import datetime\n",
    "\n",
    "from pony.orm import *\n",
    "\n",
    "# Get the absolute path to the current working directory\n",
    "current_dir = os.path.abspath(os.getcwd())\n",
    "\n",
    "# Create a new database\n",
    "db = Database()\n",
    "db.bind(provider='sqlite', filename=os.path.join(current_dir, 'kickstarter_pony.db'), create_db=True)\n",
    "\n",
    "# Read the CSV file into a DataFrame\n",
    "df = pd.read_csv('ks-projects-201612.csv', encoding='ISO-8859-1')\n",
    "\n",
    "# Drop unnamed columns\n",
    "df = df.loc[:, ~df.columns.str.startswith('Unnamed')]\n",
    "\n",
    "# Reset the index\n",
    "df.reset_index(drop=True, inplace=True)\n",
    "\n",
    "# Remove trailing spaces from column names\n",
    "df.columns = df.columns.str.strip()\n",
    "\n",
    "# Convert the 'launched' column to datetime using a custom function\n",
    "def parse_datetime(value):\n",
    "    try:\n",
    "        return datetime.strptime(value, \"%Y-%m-%d %H:%M:%S\")\n",
    "    except (ValueError, TypeError):\n",
    "        return None\n",
    "\n",
    "df['launched'] = df['launched'].apply(parse_datetime)\n",
    "\n",
    "# Drop the 'id' and 'usd pledged' columns\n",
    "df.drop(['ID', 'usd pledged', 'pledged', 'category'], axis=1, inplace=True)\n",
    "\n",
    "# Convert the 'name' column to strings\n",
    "df['name'] = df['name'].astype(str)\n",
    "\n",
    "# Convert the DataFrame to a list of dictionaries\n",
    "data = df.to_dict(orient='records')\n",
    "\n",
    "# Define the Pony ORM entities (tables) with updated column names\n",
    "class KickstarterProject(db.Entity):\n",
    "    name = Required(str)\n",
    "    main_category = Required(str)\n",
    "    currency = Required(str)\n",
    "    deadline = Required(str)\n",
    "    goal = Required(str)\n",
    "    launched = Required(datetime, default=datetime.utcnow)\n",
    "    state = Required(str)\n",
    "    backers = Required(str)\n",
    "    country = Required(str)\n",
    "    category = Optional(str, default='Uncategorized')  # Provide a default value\n",
    "\n",
    "# Generate the mapping\n",
    "db.generate_mapping(create_tables=True)\n",
    "\n",
    "# Insert the data into the database\n",
    "with db_session:\n",
    "    for row in data:\n",
    "        KickstarterProject(**row)"
   ]
  },
  {
   "cell_type": "markdown",
   "metadata": {
    "id": "W1K5VTLoYCy3"
   },
   "source": [
    "### <span style=\"color:red\"> Please answer only **one** of the following questions according to your ID number (use the formula **<YOUR_ID> mod 3 +1**) </span>"
   ]
  },
  {
   "cell_type": "code",
   "execution_count": 15,
   "metadata": {
    "id": "vwlOZtVHYCy3"
   },
   "outputs": [
    {
     "name": "stdout",
     "output_type": "stream",
     "text": [
      "You need to answer question number 3\n"
     ]
    }
   ],
   "source": [
    "# which question to answer - put your ID number and run the code\n",
    "your_id  = \"207376187\"\n",
    "q = int(your_id) % 3 + 1\n",
    "print(\"You need to answer question number %s\" % q)"
   ]
  },
  {
   "cell_type": "markdown",
   "metadata": {
    "id": "gkVN8OnxYCy5"
   },
   "source": [
    "**Question 1:** On average which project category received the highest number of backers? (15 pt)"
   ]
  },
  {
   "cell_type": "code",
   "execution_count": null,
   "metadata": {
    "id": "vkhb156oYCy6"
   },
   "outputs": [],
   "source": []
  },
  {
   "cell_type": "markdown",
   "metadata": {
    "id": "LTk5XnNGYCy7"
   },
   "source": [
    "**Question 2:** On average which project category received the highest pledged USD? (15 pt)"
   ]
  },
  {
   "cell_type": "code",
   "execution_count": null,
   "metadata": {
    "id": "DfiXdIneYCy8"
   },
   "outputs": [],
   "source": []
  },
  {
   "cell_type": "markdown",
   "metadata": {
    "id": "wM5KvHE1YCy9"
   },
   "source": [
    "**Question 3:** In which month occurred the highest number of projects? (15 pt)"
   ]
  },
  {
   "cell_type": "code",
   "execution_count": 2,
   "metadata": {},
   "outputs": [
    {
     "name": "stderr",
     "output_type": "stream",
     "text": [
      "C:\\Users\\kazom\\AppData\\Local\\Temp\\ipykernel_2836\\1905838180.py:5: DtypeWarning: Columns (13,14,15) have mixed types. Specify dtype option on import or set low_memory=False.\n",
      "  df = pd.read_csv('ks-projects-201612.csv', encoding='ISO-8859-1')\n"
     ]
    },
    {
     "name": "stdout",
     "output_type": "stream",
     "text": [
      "The month with the highest number of projects is 7.\n"
     ]
    }
   ],
   "source": [
    "import sqlite3\n",
    "import pandas as pd\n",
    "\n",
    "# Load the dataset with explicit encoding\n",
    "df = pd.read_csv('ks-projects-201612.csv', encoding='ISO-8859-1')\n",
    "\n",
    "# Assuming the correct column name contains 'launched', update the following line accordingly\n",
    "date_column_name = [col for col in df.columns if 'launched' in col.lower()][0]\n",
    "df[date_column_name] = pd.to_datetime(df[date_column_name], errors='coerce')\n",
    "\n",
    "# Extract the month from the datetime column\n",
    "df['launch_month'] = df[date_column_name].dt.month\n",
    "\n",
    "# Create a connection to SQLite database\n",
    "conn = sqlite3.connect('kickstarter.db')\n",
    "\n",
    "# Save the DataFrame to an SQLite table named 'Projects'\n",
    "df.to_sql('Projects', conn, index=False, if_exists='replace')\n",
    "\n",
    "# Commit the changes and close the connection\n",
    "conn.commit()\n",
    "conn.close()\n",
    "\n",
    "# Reconnect to the SQLite database\n",
    "conn = sqlite3.connect('kickstarter.db')\n",
    "\n",
    "# Query to count the number of projects for each month\n",
    "query = \"SELECT launch_month, COUNT(*) as project_count FROM Projects GROUP BY launch_month\"\n",
    "\n",
    "# Execute the query and fetch the result into a DataFrame\n",
    "project_counts_by_month = pd.read_sql(query, conn)\n",
    "\n",
    "# Identify the month with the highest number of projects\n",
    "max_month = project_counts_by_month['project_count'].idxmax()\n",
    "\n",
    "print(f\"The month with the highest number of projects is {max_month}.\")"
   ]
  },
  {
   "cell_type": "code",
   "execution_count": 16,
   "metadata": {
    "id": "5DTIStGMYCy-",
    "scrolled": false
   },
   "outputs": [
    {
     "name": "stderr",
     "output_type": "stream",
     "text": [
      "C:\\Users\\kazom\\AppData\\Local\\Temp\\ipykernel_17856\\1395648873.py:3: DtypeWarning: Columns (13,14,15) have mixed types. Specify dtype option on import or set low_memory=False.\n",
      "  df = pd.read_csv('ks-projects-201612.csv', encoding='ISO-8859-1')\n"
     ]
    },
    {
     "name": "stdout",
     "output_type": "stream",
     "text": [
      "The month with the highest number of projects is 7.0.\n"
     ]
    }
   ],
   "source": [
    "# The answer using pandas\n",
    "\n",
    "# Load the dataset with explicit encoding\n",
    "import pandas as pd\n",
    "df = pd.read_csv('ks-projects-201612.csv', encoding='ISO-8859-1')\n",
    "\n",
    "# Inspect the columns or display the first few rows to find the correct column name\n",
    "# Uncomment one of the following lines based on your preference:\n",
    "# print(df.columns)\n",
    "# print(df.head())\n",
    "\n",
    "# Assuming the correct column name contains 'launched', update the following line accordingly\n",
    "date_column_name = [col for col in df.columns if 'launched' in col.lower()][0]\n",
    "df[date_column_name] = pd.to_datetime(df[date_column_name], errors='coerce')\n",
    "\n",
    "# Extract the month from the datetime column\n",
    "df['launch_month'] = df[date_column_name].dt.month\n",
    "\n",
    "# Count the number of projects for each month\n",
    "project_counts_by_month = df['launch_month'].value_counts()\n",
    "\n",
    "# Identify the month with the highest number of projects\n",
    "max_month = project_counts_by_month.idxmax()\n",
    "\n",
    "print(f\"The month with the highest number of projects is {max_month}.\")"
   ]
  },
  {
   "cell_type": "code",
   "execution_count": 17,
   "metadata": {},
   "outputs": [
    {
     "name": "stderr",
     "output_type": "stream",
     "text": [
      "C:\\Users\\kazom\\AppData\\Local\\Temp\\ipykernel_17856\\3795483268.py:2: DtypeWarning: Columns (13,14,15) have mixed types. Specify dtype option on import or set low_memory=False.\n",
      "  kickstarter_df = pd.read_csv('ks-projects-201612.csv', encoding='ISO-8859-1')\n"
     ]
    },
    {
     "data": {
      "text/html": [
       "<div>\n",
       "<style scoped>\n",
       "    .dataframe tbody tr th:only-of-type {\n",
       "        vertical-align: middle;\n",
       "    }\n",
       "\n",
       "    .dataframe tbody tr th {\n",
       "        vertical-align: top;\n",
       "    }\n",
       "\n",
       "    .dataframe thead th {\n",
       "        text-align: right;\n",
       "    }\n",
       "</style>\n",
       "<table border=\"1\" class=\"dataframe\">\n",
       "  <thead>\n",
       "    <tr style=\"text-align: right;\">\n",
       "      <th></th>\n",
       "      <th>launch_month</th>\n",
       "      <th>NumProjects</th>\n",
       "    </tr>\n",
       "  </thead>\n",
       "  <tbody>\n",
       "    <tr>\n",
       "      <th>0</th>\n",
       "      <td>1.0</td>\n",
       "      <td>23256</td>\n",
       "    </tr>\n",
       "    <tr>\n",
       "      <th>1</th>\n",
       "      <td>2.0</td>\n",
       "      <td>25655</td>\n",
       "    </tr>\n",
       "    <tr>\n",
       "      <th>2</th>\n",
       "      <td>3.0</td>\n",
       "      <td>28647</td>\n",
       "    </tr>\n",
       "    <tr>\n",
       "      <th>3</th>\n",
       "      <td>4.0</td>\n",
       "      <td>27825</td>\n",
       "    </tr>\n",
       "    <tr>\n",
       "      <th>4</th>\n",
       "      <td>5.0</td>\n",
       "      <td>28028</td>\n",
       "    </tr>\n",
       "    <tr>\n",
       "      <th>5</th>\n",
       "      <td>6.0</td>\n",
       "      <td>28054</td>\n",
       "    </tr>\n",
       "    <tr>\n",
       "      <th>6</th>\n",
       "      <td>7.0</td>\n",
       "      <td>32085</td>\n",
       "    </tr>\n",
       "    <tr>\n",
       "      <th>7</th>\n",
       "      <td>8.0</td>\n",
       "      <td>27882</td>\n",
       "    </tr>\n",
       "    <tr>\n",
       "      <th>8</th>\n",
       "      <td>9.0</td>\n",
       "      <td>26928</td>\n",
       "    </tr>\n",
       "    <tr>\n",
       "      <th>9</th>\n",
       "      <td>10.0</td>\n",
       "      <td>28747</td>\n",
       "    </tr>\n",
       "    <tr>\n",
       "      <th>10</th>\n",
       "      <td>11.0</td>\n",
       "      <td>28173</td>\n",
       "    </tr>\n",
       "    <tr>\n",
       "      <th>11</th>\n",
       "      <td>12.0</td>\n",
       "      <td>17889</td>\n",
       "    </tr>\n",
       "  </tbody>\n",
       "</table>\n",
       "</div>"
      ],
      "text/plain": [
       "    launch_month  NumProjects\n",
       "0            1.0        23256\n",
       "1            2.0        25655\n",
       "2            3.0        28647\n",
       "3            4.0        27825\n",
       "4            5.0        28028\n",
       "5            6.0        28054\n",
       "6            7.0        32085\n",
       "7            8.0        27882\n",
       "8            9.0        26928\n",
       "9           10.0        28747\n",
       "10          11.0        28173\n",
       "11          12.0        17889"
      ]
     },
     "execution_count": 17,
     "metadata": {},
     "output_type": "execute_result"
    }
   ],
   "source": [
    "# Another method using pandas\n",
    "\n",
    "# Load the dataset with explicit encoding\n",
    "kickstarter_df = pd.read_csv('ks-projects-201612.csv', encoding='ISO-8859-1')\n",
    "\n",
    "# Convert the 'launched ' column to datetime\n",
    "kickstarter_df['launched '] = pd.to_datetime(kickstarter_df['launched '], errors='coerce')\n",
    "\n",
    "# Create a new column for the month\n",
    "kickstarter_df['launch_month'] = kickstarter_df['launched '].dt.month\n",
    "\n",
    "# Calculate the number of projects launched in each month\n",
    "result_by_month = kickstarter_df.groupby('launch_month').agg(\n",
    "    NumProjects=('ID ', 'count'),\n",
    ").reset_index()\n",
    "\n",
    "# Display the results\n",
    "result_by_month"
   ]
  },
  {
   "cell_type": "markdown",
   "metadata": {
    "id": "ResaA3kxYCy_"
   },
   "source": [
    "## 4. Oscars Datasets (10pt)"
   ]
  },
  {
   "cell_type": "markdown",
   "metadata": {
    "id": "WYQasQOKYCzA"
   },
   "source": [
    "Using the [Oscars Dataset](https://www.kaggle.com/theacademy/academy-awards), please answer only one of the following questions (you can chose):"
   ]
  },
  {
   "cell_type": "markdown",
   "metadata": {
    "id": "QGDmLdbKYCzA"
   },
   "source": [
    "**Question 1:** Who is the male actress with the most Oscar nominees? (10pt)"
   ]
  },
  {
   "cell_type": "code",
   "execution_count": null,
   "metadata": {},
   "outputs": [],
   "source": []
  },
  {
   "cell_type": "markdown",
   "metadata": {
    "id": "BR33wDkbYCzD"
   },
   "source": [
    "**Question 2:** Who is the female director with the most Oscar nominees? (10pt)"
   ]
  },
  {
   "cell_type": "code",
   "execution_count": null,
   "metadata": {
    "id": "2jm9HeghYCzD"
   },
   "outputs": [],
   "source": []
  },
  {
   "cell_type": "markdown",
   "metadata": {
    "id": "Va320K09YCzE"
   },
   "source": [
    "**Question 3:** Which top-10 movies received the highest number of Oscar nominees? (10pt)"
   ]
  },
  {
   "cell_type": "code",
   "execution_count": 20,
   "metadata": {},
   "outputs": [
    {
     "name": "stdout",
     "output_type": "stream",
     "text": [
      "                            Film  NumNominees\n",
      "0                           None          333\n",
      "1            Metro-Goldwyn-Mayer           60\n",
      "2          Walt Disney, Producer           57\n",
      "3                Warner Brothers           42\n",
      "4                  John Williams           42\n",
      "5                         France           36\n",
      "6                  Alfred Newman           34\n",
      "7                          Italy           27\n",
      "8                      Paramount           24\n",
      "9  Gordon Hollingshead, Producer           22\n"
     ]
    }
   ],
   "source": [
    "import sqlite3\n",
    "import pandas as pd\n",
    "\n",
    "# Load the Oscars dataset\n",
    "oscars_df = pd.read_csv('database.csv')\n",
    "\n",
    "# Create a SQLite connection and cursor\n",
    "conn = sqlite3.connect('oscars.db')\n",
    "cursor = conn.cursor()\n",
    "\n",
    "# Create a table in the database and insert data\n",
    "oscars_df.to_sql('oscars_table', conn, index=False, if_exists='replace')\n",
    "\n",
    "# Execute a query to find the top 10 movies with the highest number of Oscar nominees\n",
    "query = '''\n",
    "    SELECT Film, COUNT(*) AS NumNominees\n",
    "    FROM oscars_table\n",
    "    GROUP BY Film\n",
    "    ORDER BY NumNominees DESC\n",
    "    LIMIT 10;\n",
    "'''\n",
    "\n",
    "top_10_movies = pd.read_sql_query(query, conn)\n",
    "\n",
    "# Close the connection\n",
    "conn.close()\n",
    "\n",
    "# Display the result\n",
    "print(top_10_movies)"
   ]
  },
  {
   "cell_type": "code",
   "execution_count": 18,
   "metadata": {
    "id": "k9gVwnHVYCzF"
   },
   "outputs": [
    {
     "name": "stdout",
     "output_type": "stream",
     "text": [
      "Top 10 movies with the highest number of Oscar nominations:\n",
      "Film\n",
      "Metro-Goldwyn-Mayer              60\n",
      "Walt Disney, Producer            57\n",
      "John Williams                    42\n",
      "Warner Brothers                  42\n",
      "France                           36\n",
      "Alfred Newman                    34\n",
      "Italy                            27\n",
      "Paramount                        24\n",
      "Edith Head                       22\n",
      "Gordon Hollingshead, Producer    22\n",
      "Name: Film, dtype: int64\n"
     ]
    }
   ],
   "source": [
    "# The answer using pandas\n",
    "\n",
    "# Load the Oscars dataset\n",
    "oscars_df = pd.read_csv('database.csv')\n",
    "\n",
    "# Group by movie and count the number of nominations\n",
    "movie_nomination_counts = oscars_df.groupby('Film')['Film'].count()\n",
    "\n",
    "# Sort the movies by the number of nominations in descending order\n",
    "sorted_movies = movie_nomination_counts.sort_values(ascending=False)\n",
    "\n",
    "# Get the top 10 movies\n",
    "top_10_movies = sorted_movies.head(10)\n",
    "\n",
    "print(\"Top 10 movies with the highest number of Oscar nominations:\")\n",
    "print(top_10_movies)"
   ]
  },
  {
   "cell_type": "markdown",
   "metadata": {
    "id": "AF15wiyqYCzH"
   },
   "source": [
    "**Question 4:** Write a function that receives an actor's name and returns the actor’s number of Oscar nominees. Use the function to calculate the number of times Leonardo DiCaprio was a nominee (10pt)"
   ]
  },
  {
   "cell_type": "code",
   "execution_count": null,
   "metadata": {
    "id": "_ZdwQJCWYCzH"
   },
   "outputs": [],
   "source": []
  },
  {
   "cell_type": "markdown",
   "metadata": {
    "id": "eW1N-PBiYCzJ"
   },
   "source": [
    "## 5.  Cool Bonus: LLMs & Stable Difussion (10pt)"
   ]
  },
  {
   "cell_type": "markdown",
   "metadata": {
    "id": "Me79ek_mYCzJ"
   },
   "source": [
    "Using GPT-2 (or any other LLM model), create a simple code that generates a bedtime story with 10-page of related images."
   ]
  },
  {
   "cell_type": "markdown",
   "metadata": {},
   "source": [
    "## I did it using Google Colab, a different link has been attached.\n",
    "\n",
    "### https://colab.research.google.com/drive/1mMJaef9Woh8nao75oJASKYK3oUr1uXzE#scrollTo=AkhAt8J3OTVw"
   ]
  }
 ],
 "metadata": {
  "colab": {
   "provenance": []
  },
  "kernelspec": {
   "display_name": "Python 3 (ipykernel)",
   "language": "python",
   "name": "python3"
  },
  "language_info": {
   "codemirror_mode": {
    "name": "ipython",
    "version": 3
   },
   "file_extension": ".py",
   "mimetype": "text/x-python",
   "name": "python",
   "nbconvert_exporter": "python",
   "pygments_lexer": "ipython3",
   "version": "3.8.3"
  }
 },
 "nbformat": 4,
 "nbformat_minor": 1
}
